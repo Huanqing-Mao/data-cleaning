{
 "cells": [
  {
   "cell_type": "code",
   "execution_count": 1,
   "id": "f8e1db47",
   "metadata": {},
   "outputs": [],
   "source": [
    "import pandas as pd\n",
    "import seaborn as sns\n",
    "import numpy as np\n",
    "import matplotlib.pyplot as plt"
   ]
  },
  {
   "cell_type": "markdown",
   "id": "e19c3d89",
   "metadata": {},
   "source": [
    "(1)"
   ]
  },
  {
   "cell_type": "code",
   "execution_count": 2,
   "id": "54c9db50",
   "metadata": {},
   "outputs": [],
   "source": [
    "data = pd.read_csv(\"2021-2022.csv\")"
   ]
  },
  {
   "cell_type": "markdown",
   "id": "abacc90b",
   "metadata": {},
   "source": [
    "(2)"
   ]
  },
  {
   "cell_type": "code",
   "execution_count": 3,
   "id": "e42775fd",
   "metadata": {},
   "outputs": [
    {
     "data": {
      "text/plain": [
       "['Div',\n",
       " 'Date',\n",
       " 'Time',\n",
       " 'HomeTeam',\n",
       " 'AwayTeam',\n",
       " 'FTHG',\n",
       " 'FTAG',\n",
       " 'FTR',\n",
       " 'HTHG',\n",
       " 'HTAG',\n",
       " 'HTR',\n",
       " 'Referee',\n",
       " 'HS',\n",
       " 'AS',\n",
       " 'HST',\n",
       " 'AST',\n",
       " 'HF',\n",
       " 'AF',\n",
       " 'HC',\n",
       " 'AC',\n",
       " 'HY',\n",
       " 'AY',\n",
       " 'HR',\n",
       " 'AR',\n",
       " 'B365H',\n",
       " 'B365D',\n",
       " 'B365A',\n",
       " 'BWH',\n",
       " 'BWD',\n",
       " 'BWA',\n",
       " 'IWH',\n",
       " 'IWD',\n",
       " 'IWA',\n",
       " 'PSH',\n",
       " 'PSD',\n",
       " 'PSA',\n",
       " 'WHH',\n",
       " 'WHD',\n",
       " 'WHA',\n",
       " 'VCH',\n",
       " 'VCD',\n",
       " 'VCA',\n",
       " 'MaxH',\n",
       " 'MaxD',\n",
       " 'MaxA',\n",
       " 'AvgH',\n",
       " 'AvgD',\n",
       " 'AvgA',\n",
       " 'B365>2.5',\n",
       " 'B365<2.5',\n",
       " 'P>2.5',\n",
       " 'P<2.5',\n",
       " 'Max>2.5',\n",
       " 'Max<2.5',\n",
       " 'Avg>2.5',\n",
       " 'Avg<2.5',\n",
       " 'AHh',\n",
       " 'B365AHH',\n",
       " 'B365AHA',\n",
       " 'PAHH',\n",
       " 'PAHA',\n",
       " 'MaxAHH',\n",
       " 'MaxAHA',\n",
       " 'AvgAHH',\n",
       " 'AvgAHA',\n",
       " 'B365CH',\n",
       " 'B365CD',\n",
       " 'B365CA',\n",
       " 'BWCH',\n",
       " 'BWCD',\n",
       " 'BWCA',\n",
       " 'IWCH',\n",
       " 'IWCD',\n",
       " 'IWCA',\n",
       " 'PSCH',\n",
       " 'PSCD',\n",
       " 'PSCA',\n",
       " 'WHCH',\n",
       " 'WHCD',\n",
       " 'WHCA',\n",
       " 'VCCH',\n",
       " 'VCCD',\n",
       " 'VCCA',\n",
       " 'MaxCH',\n",
       " 'MaxCD',\n",
       " 'MaxCA',\n",
       " 'AvgCH',\n",
       " 'AvgCD',\n",
       " 'AvgCA',\n",
       " 'B365C>2.5',\n",
       " 'B365C<2.5',\n",
       " 'PC>2.5',\n",
       " 'PC<2.5',\n",
       " 'MaxC>2.5',\n",
       " 'MaxC<2.5',\n",
       " 'AvgC>2.5',\n",
       " 'AvgC<2.5',\n",
       " 'AHCh',\n",
       " 'B365CAHH',\n",
       " 'B365CAHA',\n",
       " 'PCAHH',\n",
       " 'PCAHA',\n",
       " 'MaxCAHH',\n",
       " 'MaxCAHA',\n",
       " 'AvgCAHH',\n",
       " 'AvgCAHA']"
      ]
     },
     "execution_count": 3,
     "metadata": {},
     "output_type": "execute_result"
    }
   ],
   "source": [
    "data.columns.tolist()"
   ]
  },
  {
   "cell_type": "markdown",
   "id": "02a08422",
   "metadata": {},
   "source": [
    "(3)"
   ]
  },
  {
   "cell_type": "code",
   "execution_count": 4,
   "id": "9d4481c9",
   "metadata": {},
   "outputs": [
    {
     "data": {
      "text/html": [
       "<div>\n",
       "<style scoped>\n",
       "    .dataframe tbody tr th:only-of-type {\n",
       "        vertical-align: middle;\n",
       "    }\n",
       "\n",
       "    .dataframe tbody tr th {\n",
       "        vertical-align: top;\n",
       "    }\n",
       "\n",
       "    .dataframe thead th {\n",
       "        text-align: right;\n",
       "    }\n",
       "</style>\n",
       "<table border=\"1\" class=\"dataframe\">\n",
       "  <thead>\n",
       "    <tr style=\"text-align: right;\">\n",
       "      <th></th>\n",
       "      <th>FTHG</th>\n",
       "      <th>FTAG</th>\n",
       "      <th>HTHG</th>\n",
       "      <th>HTAG</th>\n",
       "      <th>HS</th>\n",
       "      <th>AS</th>\n",
       "      <th>HST</th>\n",
       "      <th>AST</th>\n",
       "      <th>HF</th>\n",
       "      <th>AF</th>\n",
       "      <th>...</th>\n",
       "      <th>AvgC&lt;2.5</th>\n",
       "      <th>AHCh</th>\n",
       "      <th>B365CAHH</th>\n",
       "      <th>B365CAHA</th>\n",
       "      <th>PCAHH</th>\n",
       "      <th>PCAHA</th>\n",
       "      <th>MaxCAHH</th>\n",
       "      <th>MaxCAHA</th>\n",
       "      <th>AvgCAHH</th>\n",
       "      <th>AvgCAHA</th>\n",
       "    </tr>\n",
       "  </thead>\n",
       "  <tbody>\n",
       "    <tr>\n",
       "      <th>count</th>\n",
       "      <td>380.000000</td>\n",
       "      <td>380.000000</td>\n",
       "      <td>380.000000</td>\n",
       "      <td>380.000000</td>\n",
       "      <td>380.000000</td>\n",
       "      <td>380.000000</td>\n",
       "      <td>380.000000</td>\n",
       "      <td>380.000000</td>\n",
       "      <td>380.000000</td>\n",
       "      <td>380.000000</td>\n",
       "      <td>...</td>\n",
       "      <td>380.000000</td>\n",
       "      <td>380.000000</td>\n",
       "      <td>379.000000</td>\n",
       "      <td>379.000000</td>\n",
       "      <td>380.000000</td>\n",
       "      <td>380.000000</td>\n",
       "      <td>380.000000</td>\n",
       "      <td>380.000000</td>\n",
       "      <td>380.000000</td>\n",
       "      <td>380.000000</td>\n",
       "    </tr>\n",
       "    <tr>\n",
       "      <th>mean</th>\n",
       "      <td>1.513158</td>\n",
       "      <td>1.305263</td>\n",
       "      <td>0.681579</td>\n",
       "      <td>0.589474</td>\n",
       "      <td>13.847368</td>\n",
       "      <td>11.736842</td>\n",
       "      <td>4.678947</td>\n",
       "      <td>4.142105</td>\n",
       "      <td>10.055263</td>\n",
       "      <td>10.157895</td>\n",
       "      <td>...</td>\n",
       "      <td>2.070053</td>\n",
       "      <td>-0.248026</td>\n",
       "      <td>1.933193</td>\n",
       "      <td>1.966069</td>\n",
       "      <td>1.951105</td>\n",
       "      <td>1.975447</td>\n",
       "      <td>2.021211</td>\n",
       "      <td>2.054711</td>\n",
       "      <td>1.926868</td>\n",
       "      <td>1.958500</td>\n",
       "    </tr>\n",
       "    <tr>\n",
       "      <th>std</th>\n",
       "      <td>1.326545</td>\n",
       "      <td>1.258836</td>\n",
       "      <td>0.832187</td>\n",
       "      <td>0.808853</td>\n",
       "      <td>5.661784</td>\n",
       "      <td>5.348460</td>\n",
       "      <td>2.600402</td>\n",
       "      <td>2.589978</td>\n",
       "      <td>3.444180</td>\n",
       "      <td>3.718501</td>\n",
       "      <td>...</td>\n",
       "      <td>0.404372</td>\n",
       "      <td>0.950713</td>\n",
       "      <td>0.104168</td>\n",
       "      <td>0.099308</td>\n",
       "      <td>0.105294</td>\n",
       "      <td>0.106912</td>\n",
       "      <td>0.113965</td>\n",
       "      <td>0.111772</td>\n",
       "      <td>0.093221</td>\n",
       "      <td>0.094822</td>\n",
       "    </tr>\n",
       "    <tr>\n",
       "      <th>min</th>\n",
       "      <td>0.000000</td>\n",
       "      <td>0.000000</td>\n",
       "      <td>0.000000</td>\n",
       "      <td>0.000000</td>\n",
       "      <td>3.000000</td>\n",
       "      <td>1.000000</td>\n",
       "      <td>0.000000</td>\n",
       "      <td>0.000000</td>\n",
       "      <td>1.000000</td>\n",
       "      <td>2.000000</td>\n",
       "      <td>...</td>\n",
       "      <td>1.480000</td>\n",
       "      <td>-2.750000</td>\n",
       "      <td>1.650000</td>\n",
       "      <td>1.700000</td>\n",
       "      <td>1.660000</td>\n",
       "      <td>1.720000</td>\n",
       "      <td>1.800000</td>\n",
       "      <td>1.820000</td>\n",
       "      <td>1.700000</td>\n",
       "      <td>1.750000</td>\n",
       "    </tr>\n",
       "    <tr>\n",
       "      <th>25%</th>\n",
       "      <td>1.000000</td>\n",
       "      <td>0.000000</td>\n",
       "      <td>0.000000</td>\n",
       "      <td>0.000000</td>\n",
       "      <td>9.000000</td>\n",
       "      <td>8.000000</td>\n",
       "      <td>3.000000</td>\n",
       "      <td>2.000000</td>\n",
       "      <td>8.000000</td>\n",
       "      <td>7.000000</td>\n",
       "      <td>...</td>\n",
       "      <td>1.780000</td>\n",
       "      <td>-0.750000</td>\n",
       "      <td>1.855000</td>\n",
       "      <td>1.900000</td>\n",
       "      <td>1.870000</td>\n",
       "      <td>1.907500</td>\n",
       "      <td>1.940000</td>\n",
       "      <td>1.960000</td>\n",
       "      <td>1.850000</td>\n",
       "      <td>1.890000</td>\n",
       "    </tr>\n",
       "    <tr>\n",
       "      <th>50%</th>\n",
       "      <td>1.000000</td>\n",
       "      <td>1.000000</td>\n",
       "      <td>0.000000</td>\n",
       "      <td>0.000000</td>\n",
       "      <td>13.500000</td>\n",
       "      <td>11.000000</td>\n",
       "      <td>4.000000</td>\n",
       "      <td>4.000000</td>\n",
       "      <td>10.000000</td>\n",
       "      <td>10.000000</td>\n",
       "      <td>...</td>\n",
       "      <td>1.990000</td>\n",
       "      <td>-0.250000</td>\n",
       "      <td>1.940000</td>\n",
       "      <td>1.970000</td>\n",
       "      <td>1.950000</td>\n",
       "      <td>1.970000</td>\n",
       "      <td>2.010000</td>\n",
       "      <td>2.050000</td>\n",
       "      <td>1.925000</td>\n",
       "      <td>1.955000</td>\n",
       "    </tr>\n",
       "    <tr>\n",
       "      <th>75%</th>\n",
       "      <td>2.000000</td>\n",
       "      <td>2.000000</td>\n",
       "      <td>1.000000</td>\n",
       "      <td>1.000000</td>\n",
       "      <td>17.000000</td>\n",
       "      <td>15.000000</td>\n",
       "      <td>6.000000</td>\n",
       "      <td>6.000000</td>\n",
       "      <td>12.000000</td>\n",
       "      <td>12.250000</td>\n",
       "      <td>...</td>\n",
       "      <td>2.230000</td>\n",
       "      <td>0.250000</td>\n",
       "      <td>2.020000</td>\n",
       "      <td>2.050000</td>\n",
       "      <td>2.020000</td>\n",
       "      <td>2.050000</td>\n",
       "      <td>2.100000</td>\n",
       "      <td>2.140000</td>\n",
       "      <td>2.000000</td>\n",
       "      <td>2.040000</td>\n",
       "    </tr>\n",
       "    <tr>\n",
       "      <th>max</th>\n",
       "      <td>7.000000</td>\n",
       "      <td>6.000000</td>\n",
       "      <td>4.000000</td>\n",
       "      <td>4.000000</td>\n",
       "      <td>31.000000</td>\n",
       "      <td>31.000000</td>\n",
       "      <td>15.000000</td>\n",
       "      <td>14.000000</td>\n",
       "      <td>22.000000</td>\n",
       "      <td>25.000000</td>\n",
       "      <td>...</td>\n",
       "      <td>3.780000</td>\n",
       "      <td>2.500000</td>\n",
       "      <td>2.150000</td>\n",
       "      <td>2.200000</td>\n",
       "      <td>2.260000</td>\n",
       "      <td>2.380000</td>\n",
       "      <td>2.850000</td>\n",
       "      <td>2.520000</td>\n",
       "      <td>2.150000</td>\n",
       "      <td>2.230000</td>\n",
       "    </tr>\n",
       "  </tbody>\n",
       "</table>\n",
       "<p>8 rows × 98 columns</p>\n",
       "</div>"
      ],
      "text/plain": [
       "             FTHG        FTAG        HTHG        HTAG          HS          AS  \\\n",
       "count  380.000000  380.000000  380.000000  380.000000  380.000000  380.000000   \n",
       "mean     1.513158    1.305263    0.681579    0.589474   13.847368   11.736842   \n",
       "std      1.326545    1.258836    0.832187    0.808853    5.661784    5.348460   \n",
       "min      0.000000    0.000000    0.000000    0.000000    3.000000    1.000000   \n",
       "25%      1.000000    0.000000    0.000000    0.000000    9.000000    8.000000   \n",
       "50%      1.000000    1.000000    0.000000    0.000000   13.500000   11.000000   \n",
       "75%      2.000000    2.000000    1.000000    1.000000   17.000000   15.000000   \n",
       "max      7.000000    6.000000    4.000000    4.000000   31.000000   31.000000   \n",
       "\n",
       "              HST         AST          HF          AF  ...    AvgC<2.5  \\\n",
       "count  380.000000  380.000000  380.000000  380.000000  ...  380.000000   \n",
       "mean     4.678947    4.142105   10.055263   10.157895  ...    2.070053   \n",
       "std      2.600402    2.589978    3.444180    3.718501  ...    0.404372   \n",
       "min      0.000000    0.000000    1.000000    2.000000  ...    1.480000   \n",
       "25%      3.000000    2.000000    8.000000    7.000000  ...    1.780000   \n",
       "50%      4.000000    4.000000   10.000000   10.000000  ...    1.990000   \n",
       "75%      6.000000    6.000000   12.000000   12.250000  ...    2.230000   \n",
       "max     15.000000   14.000000   22.000000   25.000000  ...    3.780000   \n",
       "\n",
       "             AHCh    B365CAHH    B365CAHA       PCAHH       PCAHA     MaxCAHH  \\\n",
       "count  380.000000  379.000000  379.000000  380.000000  380.000000  380.000000   \n",
       "mean    -0.248026    1.933193    1.966069    1.951105    1.975447    2.021211   \n",
       "std      0.950713    0.104168    0.099308    0.105294    0.106912    0.113965   \n",
       "min     -2.750000    1.650000    1.700000    1.660000    1.720000    1.800000   \n",
       "25%     -0.750000    1.855000    1.900000    1.870000    1.907500    1.940000   \n",
       "50%     -0.250000    1.940000    1.970000    1.950000    1.970000    2.010000   \n",
       "75%      0.250000    2.020000    2.050000    2.020000    2.050000    2.100000   \n",
       "max      2.500000    2.150000    2.200000    2.260000    2.380000    2.850000   \n",
       "\n",
       "          MaxCAHA     AvgCAHH     AvgCAHA  \n",
       "count  380.000000  380.000000  380.000000  \n",
       "mean     2.054711    1.926868    1.958500  \n",
       "std      0.111772    0.093221    0.094822  \n",
       "min      1.820000    1.700000    1.750000  \n",
       "25%      1.960000    1.850000    1.890000  \n",
       "50%      2.050000    1.925000    1.955000  \n",
       "75%      2.140000    2.000000    2.040000  \n",
       "max      2.520000    2.150000    2.230000  \n",
       "\n",
       "[8 rows x 98 columns]"
      ]
     },
     "execution_count": 4,
     "metadata": {},
     "output_type": "execute_result"
    }
   ],
   "source": [
    "data.describe()"
   ]
  },
  {
   "cell_type": "markdown",
   "id": "6c21a604",
   "metadata": {},
   "source": [
    "(4)"
   ]
  },
  {
   "cell_type": "code",
   "execution_count": 3,
   "id": "6de4c8e4",
   "metadata": {},
   "outputs": [],
   "source": []
  },
  {
   "cell_type": "code",
   "execution_count": 5,
   "id": "e406f0a0",
   "metadata": {},
   "outputs": [],
   "source": [
    "teams = epfl[\"HomeTeam\"]"
   ]
  },
  {
   "cell_type": "code",
   "execution_count": 15,
   "id": "4f2aed26",
   "metadata": {},
   "outputs": [
    {
     "data": {
      "text/plain": [
       "380"
      ]
     },
     "execution_count": 15,
     "metadata": {},
     "output_type": "execute_result"
    }
   ],
   "source": [
    "teams.size"
   ]
  },
  {
   "cell_type": "code",
   "execution_count": 16,
   "id": "27633b2b",
   "metadata": {},
   "outputs": [
    {
     "data": {
      "text/plain": [
       "False"
      ]
     },
     "execution_count": 16,
     "metadata": {},
     "output_type": "execute_result"
    }
   ],
   "source": [
    "isinstance(teams, pd.DataFrame)"
   ]
  },
  {
   "cell_type": "code",
   "execution_count": 17,
   "id": "5dcb827b",
   "metadata": {},
   "outputs": [
    {
     "data": {
      "text/plain": [
       "True"
      ]
     },
     "execution_count": 17,
     "metadata": {},
     "output_type": "execute_result"
    }
   ],
   "source": [
    "isinstance(teams, pd.Series)"
   ]
  },
  {
   "cell_type": "markdown",
   "id": "6bc0304e",
   "metadata": {},
   "source": [
    "(5)"
   ]
  },
  {
   "cell_type": "code",
   "execution_count": 18,
   "id": "5bf758a3",
   "metadata": {},
   "outputs": [],
   "source": [
    "teamsdf = epfl[[\"HomeTeam\"]] \n",
    "# [[]] means a subset of dataframe, so it is still a dataframe"
   ]
  },
  {
   "cell_type": "markdown",
   "id": "b2d5336c",
   "metadata": {},
   "source": [
    "(6)"
   ]
  },
  {
   "cell_type": "code",
   "execution_count": 19,
   "id": "2395c4c3",
   "metadata": {},
   "outputs": [
    {
     "data": {
      "text/plain": [
       "20"
      ]
     },
     "execution_count": 19,
     "metadata": {},
     "output_type": "execute_result"
    }
   ],
   "source": [
    "len(pd.unique(teamsdf[\"HomeTeam\"]))"
   ]
  },
  {
   "cell_type": "markdown",
   "id": "070321b0",
   "metadata": {},
   "source": [
    "(7)"
   ]
  },
  {
   "cell_type": "code",
   "execution_count": 20,
   "id": "0f4f31d8",
   "metadata": {},
   "outputs": [],
   "source": [
    "LiverpoolHome = epfl[epfl[\"HomeTeam\"] == \"Liverpool\"]"
   ]
  },
  {
   "cell_type": "markdown",
   "id": "826fd911",
   "metadata": {},
   "source": [
    "(8)"
   ]
  },
  {
   "cell_type": "code",
   "execution_count": 21,
   "id": "d62a60d3",
   "metadata": {},
   "outputs": [],
   "source": [
    "LiverpoolHomeFTR = LiverpoolHome[\"FTR\"]"
   ]
  },
  {
   "cell_type": "code",
   "execution_count": 22,
   "id": "501bd8c6",
   "metadata": {},
   "outputs": [
    {
     "data": {
      "text/plain": [
       "222    H\n",
       "26     D\n",
       "315    H\n",
       "69     D\n",
       "199    H\n",
       "246    H\n",
       "239    H\n",
       "377    H\n",
       "117    H\n",
       "122    H\n",
       "43     H\n",
       "329    H\n",
       "10     H\n",
       "263    H\n",
       "92     D\n",
       "153    H\n",
       "288    H\n",
       "164    H\n",
       "347    D\n",
       "Name: FTR, dtype: object"
      ]
     },
     "execution_count": 22,
     "metadata": {},
     "output_type": "execute_result"
    }
   ],
   "source": [
    "LiverpoolHomeFTR"
   ]
  },
  {
   "cell_type": "code",
   "execution_count": 23,
   "id": "02e410bc",
   "metadata": {},
   "outputs": [
    {
     "data": {
      "text/plain": [
       "19"
      ]
     },
     "execution_count": 23,
     "metadata": {},
     "output_type": "execute_result"
    }
   ],
   "source": [
    "LiverpoolHomeFTR.size\n",
    "# Total home games = 19"
   ]
  },
  {
   "cell_type": "code",
   "execution_count": 24,
   "id": "980283c9",
   "metadata": {},
   "outputs": [
    {
     "data": {
      "text/plain": [
       "FTR\n",
       "H    15\n",
       "D     4\n",
       "Name: count, dtype: int64"
      ]
     },
     "execution_count": 24,
     "metadata": {},
     "output_type": "execute_result"
    }
   ],
   "source": [
    "LiverpoolHomeFTR.value_counts()\n",
    "# No of home wins = 15, No. of home draws = 4"
   ]
  },
  {
   "cell_type": "markdown",
   "id": "ed2f6d0a",
   "metadata": {},
   "source": [
    "(9)"
   ]
  },
  {
   "cell_type": "code",
   "execution_count": 25,
   "id": "d7dbdc94",
   "metadata": {},
   "outputs": [],
   "source": [
    "LiverpoolAway = epfl[epfl[\"AwayTeam\"] == \"Liverpool\"]"
   ]
  },
  {
   "cell_type": "markdown",
   "id": "39e53cc0",
   "metadata": {},
   "source": [
    "(10)"
   ]
  },
  {
   "cell_type": "code",
   "execution_count": 26,
   "id": "0936ba68",
   "metadata": {},
   "outputs": [],
   "source": [
    "LiverpoolAwayFTR = LiverpoolAway[\"FTR\"]"
   ]
  },
  {
   "cell_type": "code",
   "execution_count": 27,
   "id": "495c7bb1",
   "metadata": {},
   "outputs": [
    {
     "data": {
      "text/plain": [
       "19"
      ]
     },
     "execution_count": 27,
     "metadata": {},
     "output_type": "execute_result"
    }
   ],
   "source": [
    "LiverpoolAwayFTR.size\n",
    "# total away games = 19"
   ]
  },
  {
   "cell_type": "code",
   "execution_count": 28,
   "id": "cdfe6742",
   "metadata": {},
   "outputs": [
    {
     "data": {
      "text/plain": [
       "FTR\n",
       "A    13\n",
       "D     4\n",
       "H     2\n",
       "Name: count, dtype: int64"
      ]
     },
     "execution_count": 28,
     "metadata": {},
     "output_type": "execute_result"
    }
   ],
   "source": [
    "LiverpoolAwayFTR.value_counts()\n",
    "# Away wins = 13, Away draws = 4"
   ]
  },
  {
   "cell_type": "markdown",
   "id": "acf6d7db",
   "metadata": {},
   "source": [
    "(11)"
   ]
  },
  {
   "cell_type": "code",
   "execution_count": 29,
   "id": "0feab3e6",
   "metadata": {},
   "outputs": [],
   "source": [
    "TottenhamHome = epfl[epfl[\"HomeTeam\"] == \"Tottenham\"]"
   ]
  },
  {
   "cell_type": "markdown",
   "id": "36d08707",
   "metadata": {},
   "source": [
    "(12)"
   ]
  },
  {
   "cell_type": "code",
   "execution_count": 30,
   "id": "67023355",
   "metadata": {},
   "outputs": [],
   "source": [
    "THHomeFTR = TottenhamHome[\"FTR\"]"
   ]
  },
  {
   "cell_type": "code",
   "execution_count": 31,
   "id": "7f205bb7",
   "metadata": {},
   "outputs": [
    {
     "data": {
      "text/plain": [
       "19"
      ]
     },
     "execution_count": 31,
     "metadata": {},
     "output_type": "execute_result"
    }
   ],
   "source": [
    "THHomeFTR.size\n",
    "# Total home games = 19"
   ]
  },
  {
   "cell_type": "code",
   "execution_count": 32,
   "id": "114c3f2d",
   "metadata": {},
   "outputs": [
    {
     "data": {
      "text/plain": [
       "FTR\n",
       "H    13\n",
       "A     5\n",
       "D     1\n",
       "Name: count, dtype: int64"
      ]
     },
     "execution_count": 32,
     "metadata": {},
     "output_type": "execute_result"
    }
   ],
   "source": [
    "THHomeFTR.value_counts()\n",
    "# Home wins = 13, Home draws = 1"
   ]
  },
  {
   "cell_type": "markdown",
   "id": "6c5897eb",
   "metadata": {},
   "source": [
    "(13)"
   ]
  },
  {
   "cell_type": "code",
   "execution_count": 33,
   "id": "1bc01219",
   "metadata": {},
   "outputs": [],
   "source": [
    "TottenhamAway = epfl[epfl[\"AwayTeam\"] == \"Tottenham\"]"
   ]
  },
  {
   "cell_type": "markdown",
   "id": "7b5eb96b",
   "metadata": {},
   "source": [
    "(14)"
   ]
  },
  {
   "cell_type": "code",
   "execution_count": 34,
   "id": "bd881a0a",
   "metadata": {},
   "outputs": [],
   "source": [
    "THAwayFTR = TottenhamAway[\"FTR\"]"
   ]
  },
  {
   "cell_type": "code",
   "execution_count": 35,
   "id": "4bac48a8",
   "metadata": {},
   "outputs": [
    {
     "data": {
      "text/plain": [
       "19"
      ]
     },
     "execution_count": 35,
     "metadata": {},
     "output_type": "execute_result"
    }
   ],
   "source": [
    "THAwayFTR.size\n",
    "# Away games = 19"
   ]
  },
  {
   "cell_type": "code",
   "execution_count": 36,
   "id": "97e09799",
   "metadata": {},
   "outputs": [
    {
     "data": {
      "text/plain": [
       "FTR\n",
       "A    9\n",
       "H    6\n",
       "D    4\n",
       "Name: count, dtype: int64"
      ]
     },
     "execution_count": 36,
     "metadata": {},
     "output_type": "execute_result"
    }
   ],
   "source": [
    "THAwayFTR.value_counts()\n",
    "# Away wins = 9, away draws = 4"
   ]
  },
  {
   "cell_type": "markdown",
   "id": "a88a88a9",
   "metadata": {},
   "source": [
    "(15)"
   ]
  },
  {
   "cell_type": "code",
   "execution_count": 37,
   "id": "67998476",
   "metadata": {},
   "outputs": [],
   "source": [
    "home_pts = LiverpoolHomeFTR.value_counts()[\"H\"] * 3 + LiverpoolHomeFTR.value_counts()[\"D\"] * 1"
   ]
  },
  {
   "cell_type": "code",
   "execution_count": 38,
   "id": "9ac93c11",
   "metadata": {},
   "outputs": [],
   "source": [
    "away_pts = LiverpoolAwayFTR.value_counts()[\"A\"] * 3 + LiverpoolAwayFTR.value_counts()[\"D\"] * 1"
   ]
  },
  {
   "cell_type": "code",
   "execution_count": 39,
   "id": "3975e011",
   "metadata": {},
   "outputs": [
    {
     "data": {
      "text/plain": [
       "92"
      ]
     },
     "execution_count": 39,
     "metadata": {},
     "output_type": "execute_result"
    }
   ],
   "source": [
    "total_pts = home_pts + away_pts\n",
    "total_pts # 92"
   ]
  },
  {
   "cell_type": "markdown",
   "id": "20295877",
   "metadata": {},
   "source": [
    "(16)"
   ]
  },
  {
   "cell_type": "code",
   "execution_count": 40,
   "id": "66a5d0bf",
   "metadata": {},
   "outputs": [
    {
     "data": {
      "text/plain": [
       "71"
      ]
     },
     "execution_count": 40,
     "metadata": {},
     "output_type": "execute_result"
    }
   ],
   "source": [
    "THHome_stats = THHomeFTR.value_counts()\n",
    "THAway_stats = THAwayFTR.value_counts()\n",
    "home_pts = THHome_stats[\"H\"] * 3 + THHome_stats[\"D\"]\n",
    "away_pts = THAway_stats[\"A\"] * 3 + THAway_stats[\"D\"]\n",
    "total_pts = home_pts + away_pts\n",
    "total_pts # 71"
   ]
  },
  {
   "cell_type": "markdown",
   "id": "dad0135a",
   "metadata": {},
   "source": [
    "(17)"
   ]
  },
  {
   "cell_type": "code",
   "execution_count": 41,
   "id": "e235de36",
   "metadata": {},
   "outputs": [],
   "source": [
    "def get_total_pts(name):\n",
    "    # fetch data of both home and away\n",
    "    team_home = epfl[epfl[\"HomeTeam\"] == name]\n",
    "    team_away = epfl[epfl[\"AwayTeam\"] == name]\n",
    "    \n",
    "    # summarise results\n",
    "    team_home_stats = team_home[\"FTR\"].value_counts()\n",
    "   \n",
    "    team_away_stats = team_away[\"FTR\"].value_counts()\n",
    "   \n",
    "    \n",
    "    # get points earned\n",
    "    home_pts = team_home_stats[\"H\"] * 3 + team_home_stats[\"D\"]\n",
    "    away_pts = team_away_stats[\"A\"] * 3 + team_away_stats[\"D\"]\n",
    "    \n",
    "    \n",
    "    return home_pts + away_pts"
   ]
  },
  {
   "cell_type": "code",
   "execution_count": 42,
   "id": "a8c14ac9",
   "metadata": {},
   "outputs": [],
   "source": [
    "points = pd.Series(list(map(get_total_pts, teams.unique())))"
   ]
  },
  {
   "cell_type": "code",
   "execution_count": 43,
   "id": "85ce7d06",
   "metadata": {},
   "outputs": [
    {
     "data": {
      "text/html": [
       "<div>\n",
       "<style scoped>\n",
       "    .dataframe tbody tr th:only-of-type {\n",
       "        vertical-align: middle;\n",
       "    }\n",
       "\n",
       "    .dataframe tbody tr th {\n",
       "        vertical-align: top;\n",
       "    }\n",
       "\n",
       "    .dataframe thead th {\n",
       "        text-align: right;\n",
       "    }\n",
       "</style>\n",
       "<table border=\"1\" class=\"dataframe\">\n",
       "  <thead>\n",
       "    <tr style=\"text-align: right;\">\n",
       "      <th></th>\n",
       "      <th>Teams</th>\n",
       "      <th>Total Season Points</th>\n",
       "    </tr>\n",
       "  </thead>\n",
       "  <tbody>\n",
       "    <tr>\n",
       "      <th>0</th>\n",
       "      <td>Arsenal</td>\n",
       "      <td>69</td>\n",
       "    </tr>\n",
       "    <tr>\n",
       "      <th>1</th>\n",
       "      <td>Aston Villa</td>\n",
       "      <td>45</td>\n",
       "    </tr>\n",
       "    <tr>\n",
       "      <th>2</th>\n",
       "      <td>Brentford</td>\n",
       "      <td>46</td>\n",
       "    </tr>\n",
       "    <tr>\n",
       "      <th>3</th>\n",
       "      <td>Brighton</td>\n",
       "      <td>51</td>\n",
       "    </tr>\n",
       "    <tr>\n",
       "      <th>4</th>\n",
       "      <td>Burnley</td>\n",
       "      <td>35</td>\n",
       "    </tr>\n",
       "    <tr>\n",
       "      <th>5</th>\n",
       "      <td>Chelsea</td>\n",
       "      <td>74</td>\n",
       "    </tr>\n",
       "    <tr>\n",
       "      <th>6</th>\n",
       "      <td>Crystal Palace</td>\n",
       "      <td>48</td>\n",
       "    </tr>\n",
       "    <tr>\n",
       "      <th>7</th>\n",
       "      <td>Everton</td>\n",
       "      <td>39</td>\n",
       "    </tr>\n",
       "    <tr>\n",
       "      <th>8</th>\n",
       "      <td>Leeds</td>\n",
       "      <td>38</td>\n",
       "    </tr>\n",
       "    <tr>\n",
       "      <th>9</th>\n",
       "      <td>Leicester</td>\n",
       "      <td>52</td>\n",
       "    </tr>\n",
       "    <tr>\n",
       "      <th>10</th>\n",
       "      <td>Liverpool</td>\n",
       "      <td>92</td>\n",
       "    </tr>\n",
       "    <tr>\n",
       "      <th>11</th>\n",
       "      <td>Man City</td>\n",
       "      <td>93</td>\n",
       "    </tr>\n",
       "    <tr>\n",
       "      <th>12</th>\n",
       "      <td>Man United</td>\n",
       "      <td>58</td>\n",
       "    </tr>\n",
       "    <tr>\n",
       "      <th>13</th>\n",
       "      <td>Newcastle</td>\n",
       "      <td>49</td>\n",
       "    </tr>\n",
       "    <tr>\n",
       "      <th>14</th>\n",
       "      <td>Norwich</td>\n",
       "      <td>22</td>\n",
       "    </tr>\n",
       "    <tr>\n",
       "      <th>15</th>\n",
       "      <td>Southampton</td>\n",
       "      <td>40</td>\n",
       "    </tr>\n",
       "    <tr>\n",
       "      <th>16</th>\n",
       "      <td>Tottenham</td>\n",
       "      <td>71</td>\n",
       "    </tr>\n",
       "    <tr>\n",
       "      <th>17</th>\n",
       "      <td>Watford</td>\n",
       "      <td>23</td>\n",
       "    </tr>\n",
       "    <tr>\n",
       "      <th>18</th>\n",
       "      <td>West Ham</td>\n",
       "      <td>56</td>\n",
       "    </tr>\n",
       "    <tr>\n",
       "      <th>19</th>\n",
       "      <td>Wolves</td>\n",
       "      <td>51</td>\n",
       "    </tr>\n",
       "  </tbody>\n",
       "</table>\n",
       "</div>"
      ],
      "text/plain": [
       "             Teams  Total Season Points\n",
       "0          Arsenal                   69\n",
       "1      Aston Villa                   45\n",
       "2        Brentford                   46\n",
       "3         Brighton                   51\n",
       "4          Burnley                   35\n",
       "5          Chelsea                   74\n",
       "6   Crystal Palace                   48\n",
       "7          Everton                   39\n",
       "8            Leeds                   38\n",
       "9        Leicester                   52\n",
       "10       Liverpool                   92\n",
       "11        Man City                   93\n",
       "12      Man United                   58\n",
       "13       Newcastle                   49\n",
       "14         Norwich                   22\n",
       "15     Southampton                   40\n",
       "16       Tottenham                   71\n",
       "17         Watford                   23\n",
       "18        West Ham                   56\n",
       "19          Wolves                   51"
      ]
     },
     "execution_count": 43,
     "metadata": {},
     "output_type": "execute_result"
    }
   ],
   "source": [
    "pd.DataFrame({\"Teams\" : teams.unique(), \"Total Season Points\": points})"
   ]
  },
  {
   "cell_type": "markdown",
   "id": "192551f7",
   "metadata": {},
   "source": [
    "(18)"
   ]
  },
  {
   "cell_type": "code",
   "execution_count": 44,
   "id": "e9c89c8f",
   "metadata": {},
   "outputs": [
    {
     "data": {
      "text/html": [
       "<div>\n",
       "<style scoped>\n",
       "    .dataframe tbody tr th:only-of-type {\n",
       "        vertical-align: middle;\n",
       "    }\n",
       "\n",
       "    .dataframe tbody tr th {\n",
       "        vertical-align: top;\n",
       "    }\n",
       "\n",
       "    .dataframe thead th {\n",
       "        text-align: right;\n",
       "    }\n",
       "</style>\n",
       "<table border=\"1\" class=\"dataframe\">\n",
       "  <thead>\n",
       "    <tr style=\"text-align: right;\">\n",
       "      <th></th>\n",
       "      <th>HomeTeam</th>\n",
       "      <th>FTHG</th>\n",
       "    </tr>\n",
       "  </thead>\n",
       "  <tbody>\n",
       "    <tr>\n",
       "      <th>106</th>\n",
       "      <td>Arsenal</td>\n",
       "      <td>1</td>\n",
       "    </tr>\n",
       "    <tr>\n",
       "      <th>58</th>\n",
       "      <td>Arsenal</td>\n",
       "      <td>3</td>\n",
       "    </tr>\n",
       "    <tr>\n",
       "      <th>279</th>\n",
       "      <td>Arsenal</td>\n",
       "      <td>2</td>\n",
       "    </tr>\n",
       "    <tr>\n",
       "      <th>235</th>\n",
       "      <td>Arsenal</td>\n",
       "      <td>2</td>\n",
       "    </tr>\n",
       "    <tr>\n",
       "      <th>282</th>\n",
       "      <td>Arsenal</td>\n",
       "      <td>0</td>\n",
       "    </tr>\n",
       "    <tr>\n",
       "      <th>...</th>\n",
       "      <td>...</td>\n",
       "      <td>...</td>\n",
       "    </tr>\n",
       "    <tr>\n",
       "      <th>284</th>\n",
       "      <td>Wolves</td>\n",
       "      <td>2</td>\n",
       "    </tr>\n",
       "    <tr>\n",
       "      <th>41</th>\n",
       "      <td>Wolves</td>\n",
       "      <td>0</td>\n",
       "    </tr>\n",
       "    <tr>\n",
       "      <th>262</th>\n",
       "      <td>Wolves</td>\n",
       "      <td>0</td>\n",
       "    </tr>\n",
       "    <tr>\n",
       "      <th>363</th>\n",
       "      <td>Wolves</td>\n",
       "      <td>1</td>\n",
       "    </tr>\n",
       "    <tr>\n",
       "      <th>243</th>\n",
       "      <td>Wolves</td>\n",
       "      <td>2</td>\n",
       "    </tr>\n",
       "  </tbody>\n",
       "</table>\n",
       "<p>380 rows × 2 columns</p>\n",
       "</div>"
      ],
      "text/plain": [
       "    HomeTeam  FTHG\n",
       "106  Arsenal     1\n",
       "58   Arsenal     3\n",
       "279  Arsenal     2\n",
       "235  Arsenal     2\n",
       "282  Arsenal     0\n",
       "..       ...   ...\n",
       "284   Wolves     2\n",
       "41    Wolves     0\n",
       "262   Wolves     0\n",
       "363   Wolves     1\n",
       "243   Wolves     2\n",
       "\n",
       "[380 rows x 2 columns]"
      ]
     },
     "execution_count": 44,
     "metadata": {},
     "output_type": "execute_result"
    }
   ],
   "source": [
    "home_goals = epfl[[\"HomeTeam\", \"FTHG\"]]\n",
    "home_goals"
   ]
  },
  {
   "cell_type": "code",
   "execution_count": 45,
   "id": "fe68b6a2",
   "metadata": {},
   "outputs": [
    {
     "data": {
      "text/plain": [
       "(array([ 0,  1,  2,  3,  4,  5,  6,  7,  8,  9, 10, 11, 12, 13, 14, 15, 16,\n",
       "        17, 18, 19]),\n",
       " [Text(0, 0, 'Arsenal'),\n",
       "  Text(1, 0, 'Aston Villa'),\n",
       "  Text(2, 0, 'Brentford'),\n",
       "  Text(3, 0, 'Brighton'),\n",
       "  Text(4, 0, 'Burnley'),\n",
       "  Text(5, 0, 'Chelsea'),\n",
       "  Text(6, 0, 'Crystal Palace'),\n",
       "  Text(7, 0, 'Everton'),\n",
       "  Text(8, 0, 'Leeds'),\n",
       "  Text(9, 0, 'Leicester'),\n",
       "  Text(10, 0, 'Liverpool'),\n",
       "  Text(11, 0, 'Man City'),\n",
       "  Text(12, 0, 'Man United'),\n",
       "  Text(13, 0, 'Newcastle'),\n",
       "  Text(14, 0, 'Norwich'),\n",
       "  Text(15, 0, 'Southampton'),\n",
       "  Text(16, 0, 'Tottenham'),\n",
       "  Text(17, 0, 'Watford'),\n",
       "  Text(18, 0, 'West Ham'),\n",
       "  Text(19, 0, 'Wolves')])"
      ]
     },
     "execution_count": 45,
     "metadata": {},
     "output_type": "execute_result"
    },
    {
     "data": {
      "image/png": "[encoded data removed]",
      "text/plain": [
       "<Figure size 2000x600 with 1 Axes>"
      ]
     },
     "metadata": {},
     "output_type": "display_data"
    }
   ],
   "source": [
    "plt.figure(figsize=(20, 6))\n",
    "sns.boxplot(x=\"HomeTeam\", y=\"FTHG\", data = home_goals)\n",
    "plt.title('Boxplot of statistics of Home Goals per Team')\n",
    "plt.xticks(rotation=45)"
   ]
  },
  {
   "cell_type": "markdown",
   "id": "7cd492e5",
   "metadata": {},
   "source": [
    "(19)"
   ]
  },
  {
   "cell_type": "code",
   "execution_count": 46,
   "id": "468c309f",
   "metadata": {},
   "outputs": [
    {
     "data": {
      "text/html": [
       "<div>\n",
       "<style scoped>\n",
       "    .dataframe tbody tr th:only-of-type {\n",
       "        vertical-align: middle;\n",
       "    }\n",
       "\n",
       "    .dataframe tbody tr th {\n",
       "        vertical-align: top;\n",
       "    }\n",
       "\n",
       "    .dataframe thead th {\n",
       "        text-align: right;\n",
       "    }\n",
       "</style>\n",
       "<table border=\"1\" class=\"dataframe\">\n",
       "  <thead>\n",
       "    <tr style=\"text-align: right;\">\n",
       "      <th></th>\n",
       "      <th>HomeTeam</th>\n",
       "      <th>FTAG</th>\n",
       "    </tr>\n",
       "  </thead>\n",
       "  <tbody>\n",
       "    <tr>\n",
       "      <th>106</th>\n",
       "      <td>Arsenal</td>\n",
       "      <td>0</td>\n",
       "    </tr>\n",
       "    <tr>\n",
       "      <th>58</th>\n",
       "      <td>Arsenal</td>\n",
       "      <td>1</td>\n",
       "    </tr>\n",
       "    <tr>\n",
       "      <th>279</th>\n",
       "      <td>Arsenal</td>\n",
       "      <td>0</td>\n",
       "    </tr>\n",
       "    <tr>\n",
       "      <th>235</th>\n",
       "      <td>Arsenal</td>\n",
       "      <td>1</td>\n",
       "    </tr>\n",
       "    <tr>\n",
       "      <th>282</th>\n",
       "      <td>Arsenal</td>\n",
       "      <td>2</td>\n",
       "    </tr>\n",
       "    <tr>\n",
       "      <th>...</th>\n",
       "      <td>...</td>\n",
       "      <td>...</td>\n",
       "    </tr>\n",
       "    <tr>\n",
       "      <th>284</th>\n",
       "      <td>Wolves</td>\n",
       "      <td>3</td>\n",
       "    </tr>\n",
       "    <tr>\n",
       "      <th>41</th>\n",
       "      <td>Wolves</td>\n",
       "      <td>2</td>\n",
       "    </tr>\n",
       "    <tr>\n",
       "      <th>262</th>\n",
       "      <td>Wolves</td>\n",
       "      <td>2</td>\n",
       "    </tr>\n",
       "    <tr>\n",
       "      <th>363</th>\n",
       "      <td>Wolves</td>\n",
       "      <td>1</td>\n",
       "    </tr>\n",
       "    <tr>\n",
       "      <th>243</th>\n",
       "      <td>Wolves</td>\n",
       "      <td>1</td>\n",
       "    </tr>\n",
       "  </tbody>\n",
       "</table>\n",
       "<p>380 rows × 2 columns</p>\n",
       "</div>"
      ],
      "text/plain": [
       "    HomeTeam  FTAG\n",
       "106  Arsenal     0\n",
       "58   Arsenal     1\n",
       "279  Arsenal     0\n",
       "235  Arsenal     1\n",
       "282  Arsenal     2\n",
       "..       ...   ...\n",
       "284   Wolves     3\n",
       "41    Wolves     2\n",
       "262   Wolves     2\n",
       "363   Wolves     1\n",
       "243   Wolves     1\n",
       "\n",
       "[380 rows x 2 columns]"
      ]
     },
     "execution_count": 46,
     "metadata": {},
     "output_type": "execute_result"
    }
   ],
   "source": [
    "away_goals = epfl[[\"HomeTeam\", \"FTAG\"]]\n",
    "away_goals"
   ]
  },
  {
   "cell_type": "code",
   "execution_count": 39,
   "id": "efae3ca2",
   "metadata": {},
   "outputs": [
    {
     "data": {
      "text/plain": [
       "(array([ 0,  1,  2,  3,  4,  5,  6,  7,  8,  9, 10, 11, 12, 13, 14, 15, 16,\n",
       "        17, 18, 19]),\n",
       " [Text(0, 0, 'Arsenal'),\n",
       "  Text(1, 0, 'Aston Villa'),\n",
       "  Text(2, 0, 'Brentford'),\n",
       "  Text(3, 0, 'Brighton'),\n",
       "  Text(4, 0, 'Burnley'),\n",
       "  Text(5, 0, 'Chelsea'),\n",
       "  Text(6, 0, 'Crystal Palace'),\n",
       "  Text(7, 0, 'Everton'),\n",
       "  Text(8, 0, 'Leeds'),\n",
       "  Text(9, 0, 'Leicester'),\n",
       "  Text(10, 0, 'Liverpool'),\n",
       "  Text(11, 0, 'Man City'),\n",
       "  Text(12, 0, 'Man United'),\n",
       "  Text(13, 0, 'Newcastle'),\n",
       "  Text(14, 0, 'Norwich'),\n",
       "  Text(15, 0, 'Southampton'),\n",
       "  Text(16, 0, 'Tottenham'),\n",
       "  Text(17, 0, 'Watford'),\n",
       "  Text(18, 0, 'West Ham'),\n",
       "  Text(19, 0, 'Wolves')])"
      ]
     },
     "execution_count": 39,
     "metadata": {},
     "output_type": "execute_result"
    },
    {
     "data": {
      "image/png": "[encoded data removed]",
      "text/plain": [
       "<Figure size 2000x600 with 1 Axes>"
      ]
     },
     "metadata": {},
     "output_type": "display_data"
    }
   ],
   "source": [
    "plt.figure(figsize=(20, 6))\n",
    "sns.boxplot(x=\"HomeTeam\", y=\"FTAG\", data = away_goals)\n",
    "plt.title('Boxplot of statistics of Away Goals per Team')\n",
    "plt.xticks(rotation=45)"
   ]
  },
  {
   "cell_type": "markdown",
   "id": "35afca70",
   "metadata": {},
   "source": [
    "(20)"
   ]
  },
  {
   "cell_type": "code",
   "execution_count": 40,
   "id": "d5a7389d",
   "metadata": {},
   "outputs": [
    {
     "data": {
      "text/html": [
       "<div>\n",
       "<style scoped>\n",
       "    .dataframe tbody tr th:only-of-type {\n",
       "        vertical-align: middle;\n",
       "    }\n",
       "\n",
       "    .dataframe tbody tr th {\n",
       "        vertical-align: top;\n",
       "    }\n",
       "\n",
       "    .dataframe thead th {\n",
       "        text-align: right;\n",
       "    }\n",
       "</style>\n",
       "<table border=\"1\" class=\"dataframe\">\n",
       "  <thead>\n",
       "    <tr style=\"text-align: right;\">\n",
       "      <th></th>\n",
       "      <th>Div</th>\n",
       "      <th>Date</th>\n",
       "      <th>Time</th>\n",
       "      <th>HomeTeam</th>\n",
       "      <th>AwayTeam</th>\n",
       "      <th>FTHG</th>\n",
       "      <th>FTAG</th>\n",
       "      <th>FTR</th>\n",
       "      <th>HTHG</th>\n",
       "      <th>HTAG</th>\n",
       "      <th>...</th>\n",
       "      <th>AvgC&lt;2.5</th>\n",
       "      <th>AHCh</th>\n",
       "      <th>B365CAHH</th>\n",
       "      <th>B365CAHA</th>\n",
       "      <th>PCAHH</th>\n",
       "      <th>PCAHA</th>\n",
       "      <th>MaxCAHH</th>\n",
       "      <th>MaxCAHA</th>\n",
       "      <th>AvgCAHH</th>\n",
       "      <th>AvgCAHA</th>\n",
       "    </tr>\n",
       "  </thead>\n",
       "  <tbody>\n",
       "    <tr>\n",
       "      <th>106</th>\n",
       "      <td>E0</td>\n",
       "      <td>07/11/2021</td>\n",
       "      <td>14:00</td>\n",
       "      <td>Arsenal</td>\n",
       "      <td>Watford</td>\n",
       "      <td>1</td>\n",
       "      <td>0</td>\n",
       "      <td>H</td>\n",
       "      <td>0</td>\n",
       "      <td>0</td>\n",
       "      <td>...</td>\n",
       "      <td>2.32</td>\n",
       "      <td>-1.25</td>\n",
       "      <td>2.07</td>\n",
       "      <td>1.86</td>\n",
       "      <td>2.08</td>\n",
       "      <td>1.86</td>\n",
       "      <td>2.09</td>\n",
       "      <td>1.91</td>\n",
       "      <td>2.03</td>\n",
       "      <td>1.86</td>\n",
       "    </tr>\n",
       "    <tr>\n",
       "      <th>58</th>\n",
       "      <td>E0</td>\n",
       "      <td>26/09/2021</td>\n",
       "      <td>16:30</td>\n",
       "      <td>Arsenal</td>\n",
       "      <td>Tottenham</td>\n",
       "      <td>3</td>\n",
       "      <td>1</td>\n",
       "      <td>H</td>\n",
       "      <td>3</td>\n",
       "      <td>0</td>\n",
       "      <td>...</td>\n",
       "      <td>1.90</td>\n",
       "      <td>-0.25</td>\n",
       "      <td>1.95</td>\n",
       "      <td>1.98</td>\n",
       "      <td>1.93</td>\n",
       "      <td>2.00</td>\n",
       "      <td>2.06</td>\n",
       "      <td>2.06</td>\n",
       "      <td>1.91</td>\n",
       "      <td>1.98</td>\n",
       "    </tr>\n",
       "    <tr>\n",
       "      <th>279</th>\n",
       "      <td>E0</td>\n",
       "      <td>13/03/2022</td>\n",
       "      <td>16:30</td>\n",
       "      <td>Arsenal</td>\n",
       "      <td>Leicester</td>\n",
       "      <td>2</td>\n",
       "      <td>0</td>\n",
       "      <td>H</td>\n",
       "      <td>1</td>\n",
       "      <td>0</td>\n",
       "      <td>...</td>\n",
       "      <td>2.30</td>\n",
       "      <td>-1.25</td>\n",
       "      <td>1.97</td>\n",
       "      <td>1.96</td>\n",
       "      <td>1.97</td>\n",
       "      <td>1.95</td>\n",
       "      <td>1.98</td>\n",
       "      <td>2.00</td>\n",
       "      <td>1.93</td>\n",
       "      <td>1.95</td>\n",
       "    </tr>\n",
       "    <tr>\n",
       "      <th>235</th>\n",
       "      <td>E0</td>\n",
       "      <td>19/02/2022</td>\n",
       "      <td>15:00</td>\n",
       "      <td>Arsenal</td>\n",
       "      <td>Brentford</td>\n",
       "      <td>2</td>\n",
       "      <td>1</td>\n",
       "      <td>H</td>\n",
       "      <td>0</td>\n",
       "      <td>0</td>\n",
       "      <td>...</td>\n",
       "      <td>1.69</td>\n",
       "      <td>-1.00</td>\n",
       "      <td>1.93</td>\n",
       "      <td>1.97</td>\n",
       "      <td>1.91</td>\n",
       "      <td>2.01</td>\n",
       "      <td>2.06</td>\n",
       "      <td>2.01</td>\n",
       "      <td>1.97</td>\n",
       "      <td>1.90</td>\n",
       "    </tr>\n",
       "    <tr>\n",
       "      <th>282</th>\n",
       "      <td>E0</td>\n",
       "      <td>16/03/2022</td>\n",
       "      <td>20:15</td>\n",
       "      <td>Arsenal</td>\n",
       "      <td>Liverpool</td>\n",
       "      <td>0</td>\n",
       "      <td>2</td>\n",
       "      <td>A</td>\n",
       "      <td>0</td>\n",
       "      <td>0</td>\n",
       "      <td>...</td>\n",
       "      <td>2.06</td>\n",
       "      <td>0.50</td>\n",
       "      <td>1.81</td>\n",
       "      <td>2.09</td>\n",
       "      <td>1.85</td>\n",
       "      <td>2.09</td>\n",
       "      <td>1.90</td>\n",
       "      <td>2.12</td>\n",
       "      <td>1.83</td>\n",
       "      <td>2.06</td>\n",
       "    </tr>\n",
       "    <tr>\n",
       "      <th>...</th>\n",
       "      <td>...</td>\n",
       "      <td>...</td>\n",
       "      <td>...</td>\n",
       "      <td>...</td>\n",
       "      <td>...</td>\n",
       "      <td>...</td>\n",
       "      <td>...</td>\n",
       "      <td>...</td>\n",
       "      <td>...</td>\n",
       "      <td>...</td>\n",
       "      <td>...</td>\n",
       "      <td>...</td>\n",
       "      <td>...</td>\n",
       "      <td>...</td>\n",
       "      <td>...</td>\n",
       "      <td>...</td>\n",
       "      <td>...</td>\n",
       "      <td>...</td>\n",
       "      <td>...</td>\n",
       "      <td>...</td>\n",
       "      <td>...</td>\n",
       "    </tr>\n",
       "    <tr>\n",
       "      <th>284</th>\n",
       "      <td>E0</td>\n",
       "      <td>18/03/2022</td>\n",
       "      <td>20:00</td>\n",
       "      <td>Wolves</td>\n",
       "      <td>Leeds</td>\n",
       "      <td>2</td>\n",
       "      <td>3</td>\n",
       "      <td>A</td>\n",
       "      <td>2</td>\n",
       "      <td>0</td>\n",
       "      <td>...</td>\n",
       "      <td>1.75</td>\n",
       "      <td>-0.25</td>\n",
       "      <td>1.95</td>\n",
       "      <td>1.95</td>\n",
       "      <td>1.96</td>\n",
       "      <td>1.96</td>\n",
       "      <td>1.98</td>\n",
       "      <td>2.12</td>\n",
       "      <td>1.91</td>\n",
       "      <td>1.97</td>\n",
       "    </tr>\n",
       "    <tr>\n",
       "      <th>41</th>\n",
       "      <td>E0</td>\n",
       "      <td>18/09/2021</td>\n",
       "      <td>12:30</td>\n",
       "      <td>Wolves</td>\n",
       "      <td>Brentford</td>\n",
       "      <td>0</td>\n",
       "      <td>2</td>\n",
       "      <td>A</td>\n",
       "      <td>0</td>\n",
       "      <td>2</td>\n",
       "      <td>...</td>\n",
       "      <td>1.58</td>\n",
       "      <td>-0.50</td>\n",
       "      <td>1.81</td>\n",
       "      <td>2.13</td>\n",
       "      <td>1.83</td>\n",
       "      <td>2.11</td>\n",
       "      <td>1.87</td>\n",
       "      <td>2.14</td>\n",
       "      <td>1.83</td>\n",
       "      <td>2.06</td>\n",
       "    </tr>\n",
       "    <tr>\n",
       "      <th>262</th>\n",
       "      <td>E0</td>\n",
       "      <td>05/03/2022</td>\n",
       "      <td>15:00</td>\n",
       "      <td>Wolves</td>\n",
       "      <td>Crystal Palace</td>\n",
       "      <td>0</td>\n",
       "      <td>2</td>\n",
       "      <td>A</td>\n",
       "      <td>0</td>\n",
       "      <td>2</td>\n",
       "      <td>...</td>\n",
       "      <td>1.50</td>\n",
       "      <td>-0.25</td>\n",
       "      <td>2.00</td>\n",
       "      <td>1.90</td>\n",
       "      <td>2.02</td>\n",
       "      <td>1.91</td>\n",
       "      <td>2.04</td>\n",
       "      <td>2.02</td>\n",
       "      <td>1.99</td>\n",
       "      <td>1.88</td>\n",
       "    </tr>\n",
       "    <tr>\n",
       "      <th>363</th>\n",
       "      <td>E0</td>\n",
       "      <td>15/05/2022</td>\n",
       "      <td>14:00</td>\n",
       "      <td>Wolves</td>\n",
       "      <td>Norwich</td>\n",
       "      <td>1</td>\n",
       "      <td>1</td>\n",
       "      <td>D</td>\n",
       "      <td>0</td>\n",
       "      <td>1</td>\n",
       "      <td>...</td>\n",
       "      <td>2.15</td>\n",
       "      <td>-1.00</td>\n",
       "      <td>1.93</td>\n",
       "      <td>1.97</td>\n",
       "      <td>1.96</td>\n",
       "      <td>1.94</td>\n",
       "      <td>1.96</td>\n",
       "      <td>2.13</td>\n",
       "      <td>1.89</td>\n",
       "      <td>1.99</td>\n",
       "    </tr>\n",
       "    <tr>\n",
       "      <th>243</th>\n",
       "      <td>E0</td>\n",
       "      <td>20/02/2022</td>\n",
       "      <td>16:30</td>\n",
       "      <td>Wolves</td>\n",
       "      <td>Leicester</td>\n",
       "      <td>2</td>\n",
       "      <td>1</td>\n",
       "      <td>H</td>\n",
       "      <td>1</td>\n",
       "      <td>1</td>\n",
       "      <td>...</td>\n",
       "      <td>1.61</td>\n",
       "      <td>-0.25</td>\n",
       "      <td>1.88</td>\n",
       "      <td>2.02</td>\n",
       "      <td>1.86</td>\n",
       "      <td>2.06</td>\n",
       "      <td>2.04</td>\n",
       "      <td>2.09</td>\n",
       "      <td>1.88</td>\n",
       "      <td>2.00</td>\n",
       "    </tr>\n",
       "  </tbody>\n",
       "</table>\n",
       "<p>380 rows × 106 columns</p>\n",
       "</div>"
      ],
      "text/plain": [
       "    Div        Date   Time HomeTeam        AwayTeam  FTHG  FTAG FTR  HTHG  \\\n",
       "106  E0  07/11/2021  14:00  Arsenal         Watford     1     0   H     0   \n",
       "58   E0  26/09/2021  16:30  Arsenal       Tottenham     3     1   H     3   \n",
       "279  E0  13/03/2022  16:30  Arsenal       Leicester     2     0   H     1   \n",
       "235  E0  19/02/2022  15:00  Arsenal       Brentford     2     1   H     0   \n",
       "282  E0  16/03/2022  20:15  Arsenal       Liverpool     0     2   A     0   \n",
       "..   ..         ...    ...      ...             ...   ...   ...  ..   ...   \n",
       "284  E0  18/03/2022  20:00   Wolves           Leeds     2     3   A     2   \n",
       "41   E0  18/09/2021  12:30   Wolves       Brentford     0     2   A     0   \n",
       "262  E0  05/03/2022  15:00   Wolves  Crystal Palace     0     2   A     0   \n",
       "363  E0  15/05/2022  14:00   Wolves         Norwich     1     1   D     0   \n",
       "243  E0  20/02/2022  16:30   Wolves       Leicester     2     1   H     1   \n",
       "\n",
       "     HTAG  ... AvgC<2.5  AHCh  B365CAHH  B365CAHA  PCAHH  PCAHA  MaxCAHH  \\\n",
       "106     0  ...     2.32 -1.25      2.07      1.86   2.08   1.86     2.09   \n",
       "58      0  ...     1.90 -0.25      1.95      1.98   1.93   2.00     2.06   \n",
       "279     0  ...     2.30 -1.25      1.97      1.96   1.97   1.95     1.98   \n",
       "235     0  ...     1.69 -1.00      1.93      1.97   1.91   2.01     2.06   \n",
       "282     0  ...     2.06  0.50      1.81      2.09   1.85   2.09     1.90   \n",
       "..    ...  ...      ...   ...       ...       ...    ...    ...      ...   \n",
       "284     0  ...     1.75 -0.25      1.95      1.95   1.96   1.96     1.98   \n",
       "41      2  ...     1.58 -0.50      1.81      2.13   1.83   2.11     1.87   \n",
       "262     2  ...     1.50 -0.25      2.00      1.90   2.02   1.91     2.04   \n",
       "363     1  ...     2.15 -1.00      1.93      1.97   1.96   1.94     1.96   \n",
       "243     1  ...     1.61 -0.25      1.88      2.02   1.86   2.06     2.04   \n",
       "\n",
       "     MaxCAHA  AvgCAHH  AvgCAHA  \n",
       "106     1.91     2.03     1.86  \n",
       "58      2.06     1.91     1.98  \n",
       "279     2.00     1.93     1.95  \n",
       "235     2.01     1.97     1.90  \n",
       "282     2.12     1.83     2.06  \n",
       "..       ...      ...      ...  \n",
       "284     2.12     1.91     1.97  \n",
       "41      2.14     1.83     2.06  \n",
       "262     2.02     1.99     1.88  \n",
       "363     2.13     1.89     1.99  \n",
       "243     2.09     1.88     2.00  \n",
       "\n",
       "[380 rows x 106 columns]"
      ]
     },
     "execution_count": 40,
     "metadata": {},
     "output_type": "execute_result"
    }
   ],
   "source": [
    "epfl"
   ]
  },
  {
   "cell_type": "code",
   "execution_count": 41,
   "id": "00e705d0",
   "metadata": {},
   "outputs": [],
   "source": [
    "condition = (epfl[\"HomeTeam\"] == \"Tottenham\") | (epfl[\"AwayTeam\"] == \"Tottenham\")"
   ]
  },
  {
   "cell_type": "code",
   "execution_count": 42,
   "id": "bfb1a0b6",
   "metadata": {},
   "outputs": [],
   "source": [
    "TottenhamAll = epfl[condition]\n",
    "## TottenhamAll.to_csv(\"TottenhanAll.csv\")"
   ]
  },
  {
   "cell_type": "code",
   "execution_count": null,
   "id": "72ef1047",
   "metadata": {},
   "outputs": [],
   "source": []
  }
 ],
 "metadata": {
  "kernelspec": {
   "display_name": "Python 3 (ipykernel)",
   "language": "python",
   "name": "python3"
  },
  "language_info": {
   "codemirror_mode": {
    "name": "ipython",
    "version": 3
   },
   "file_extension": ".py",
   "mimetype": "text/x-python",
   "name": "python",
   "nbconvert_exporter": "python",
   "pygments_lexer": "ipython3",
   "version": "3.11.5"
  },
  "vscode": {
   "interpreter": {
    "hash": "aee8b7b246df8f9039afb4144a1f6fd8d2ca17a180786b69acc140d282b71a49"
   }
  }
 },
 "nbformat": 4,
 "nbformat_minor": 5
}
