{
 "cells": [
  {
   "cell_type": "code",
   "execution_count": 1,
   "id": "0e41d081",
   "metadata": {},
   "outputs": [],
   "source": [
    "import numpy as np\n",
    "import pandas as pd"
   ]
  },
  {
   "cell_type": "markdown",
   "id": "7edf6a5d",
   "metadata": {},
   "source": [
    "## (1)"
   ]
  },
  {
   "cell_type": "code",
   "execution_count": 4,
   "id": "dd8d5469",
   "metadata": {},
   "outputs": [],
   "source": [
    "df_weed = pd.read_csv(\"wheat-seeds.csv\", header=None)"
   ]
  },
  {
   "cell_type": "code",
   "execution_count": 6,
   "id": "22e11497",
   "metadata": {},
   "outputs": [
    {
     "data": {
      "text/html": [
       "<div>\n",
       "<style scoped>\n",
       "    .dataframe tbody tr th:only-of-type {\n",
       "        vertical-align: middle;\n",
       "    }\n",
       "\n",
       "    .dataframe tbody tr th {\n",
       "        vertical-align: top;\n",
       "    }\n",
       "\n",
       "    .dataframe thead th {\n",
       "        text-align: right;\n",
       "    }\n",
       "</style>\n",
       "<table border=\"1\" class=\"dataframe\">\n",
       "  <thead>\n",
       "    <tr style=\"text-align: right;\">\n",
       "      <th></th>\n",
       "      <th>0</th>\n",
       "      <th>1</th>\n",
       "      <th>2</th>\n",
       "      <th>3</th>\n",
       "      <th>4</th>\n",
       "      <th>5</th>\n",
       "      <th>6</th>\n",
       "      <th>7</th>\n",
       "    </tr>\n",
       "  </thead>\n",
       "  <tbody>\n",
       "    <tr>\n",
       "      <th>0</th>\n",
       "      <td>15.26</td>\n",
       "      <td>14.84</td>\n",
       "      <td>0.8710</td>\n",
       "      <td>5.763</td>\n",
       "      <td>3.312</td>\n",
       "      <td>2.221</td>\n",
       "      <td>5.220</td>\n",
       "      <td>1</td>\n",
       "    </tr>\n",
       "    <tr>\n",
       "      <th>1</th>\n",
       "      <td>14.88</td>\n",
       "      <td>14.57</td>\n",
       "      <td>0.8811</td>\n",
       "      <td>5.554</td>\n",
       "      <td>3.333</td>\n",
       "      <td>1.018</td>\n",
       "      <td>4.956</td>\n",
       "      <td>1</td>\n",
       "    </tr>\n",
       "    <tr>\n",
       "      <th>2</th>\n",
       "      <td>14.29</td>\n",
       "      <td>14.09</td>\n",
       "      <td>0.9050</td>\n",
       "      <td>5.291</td>\n",
       "      <td>3.337</td>\n",
       "      <td>2.699</td>\n",
       "      <td>4.825</td>\n",
       "      <td>1</td>\n",
       "    </tr>\n",
       "    <tr>\n",
       "      <th>3</th>\n",
       "      <td>13.84</td>\n",
       "      <td>13.94</td>\n",
       "      <td>0.8955</td>\n",
       "      <td>5.324</td>\n",
       "      <td>3.379</td>\n",
       "      <td>2.259</td>\n",
       "      <td>4.805</td>\n",
       "      <td>1</td>\n",
       "    </tr>\n",
       "    <tr>\n",
       "      <th>4</th>\n",
       "      <td>16.14</td>\n",
       "      <td>14.99</td>\n",
       "      <td>0.9034</td>\n",
       "      <td>5.658</td>\n",
       "      <td>3.562</td>\n",
       "      <td>1.355</td>\n",
       "      <td>5.175</td>\n",
       "      <td>1</td>\n",
       "    </tr>\n",
       "  </tbody>\n",
       "</table>\n",
       "</div>"
      ],
      "text/plain": [
       "       0      1       2      3      4      5      6  7\n",
       "0  15.26  14.84  0.8710  5.763  3.312  2.221  5.220  1\n",
       "1  14.88  14.57  0.8811  5.554  3.333  1.018  4.956  1\n",
       "2  14.29  14.09  0.9050  5.291  3.337  2.699  4.825  1\n",
       "3  13.84  13.94  0.8955  5.324  3.379  2.259  4.805  1\n",
       "4  16.14  14.99  0.9034  5.658  3.562  1.355  5.175  1"
      ]
     },
     "execution_count": 6,
     "metadata": {},
     "output_type": "execute_result"
    }
   ],
   "source": [
    "df_weed.head(5)"
   ]
  },
  {
   "cell_type": "markdown",
   "id": "9fc4fc59",
   "metadata": {},
   "source": [
    "## (2)"
   ]
  },
  {
   "cell_type": "code",
   "execution_count": 7,
   "id": "959da608",
   "metadata": {},
   "outputs": [],
   "source": [
    "columns = ['feat1' , 'feat2', 'feat3', 'feat4', 'feat5', 'feat6', 'feat7', 'class']"
   ]
  },
  {
   "cell_type": "code",
   "execution_count": 9,
   "id": "cecea8e0",
   "metadata": {},
   "outputs": [
    {
     "data": {
      "text/html": [
       "<div>\n",
       "<style scoped>\n",
       "    .dataframe tbody tr th:only-of-type {\n",
       "        vertical-align: middle;\n",
       "    }\n",
       "\n",
       "    .dataframe tbody tr th {\n",
       "        vertical-align: top;\n",
       "    }\n",
       "\n",
       "    .dataframe thead th {\n",
       "        text-align: right;\n",
       "    }\n",
       "</style>\n",
       "<table border=\"1\" class=\"dataframe\">\n",
       "  <thead>\n",
       "    <tr style=\"text-align: right;\">\n",
       "      <th></th>\n",
       "      <th>feat1</th>\n",
       "      <th>feat2</th>\n",
       "      <th>feat3</th>\n",
       "      <th>feat4</th>\n",
       "      <th>feat5</th>\n",
       "      <th>feat6</th>\n",
       "      <th>feat7</th>\n",
       "      <th>class</th>\n",
       "    </tr>\n",
       "  </thead>\n",
       "  <tbody>\n",
       "    <tr>\n",
       "      <th>0</th>\n",
       "      <td>15.26</td>\n",
       "      <td>14.84</td>\n",
       "      <td>0.8710</td>\n",
       "      <td>5.763</td>\n",
       "      <td>3.312</td>\n",
       "      <td>2.221</td>\n",
       "      <td>5.220</td>\n",
       "      <td>1</td>\n",
       "    </tr>\n",
       "    <tr>\n",
       "      <th>1</th>\n",
       "      <td>14.88</td>\n",
       "      <td>14.57</td>\n",
       "      <td>0.8811</td>\n",
       "      <td>5.554</td>\n",
       "      <td>3.333</td>\n",
       "      <td>1.018</td>\n",
       "      <td>4.956</td>\n",
       "      <td>1</td>\n",
       "    </tr>\n",
       "    <tr>\n",
       "      <th>2</th>\n",
       "      <td>14.29</td>\n",
       "      <td>14.09</td>\n",
       "      <td>0.9050</td>\n",
       "      <td>5.291</td>\n",
       "      <td>3.337</td>\n",
       "      <td>2.699</td>\n",
       "      <td>4.825</td>\n",
       "      <td>1</td>\n",
       "    </tr>\n",
       "    <tr>\n",
       "      <th>3</th>\n",
       "      <td>13.84</td>\n",
       "      <td>13.94</td>\n",
       "      <td>0.8955</td>\n",
       "      <td>5.324</td>\n",
       "      <td>3.379</td>\n",
       "      <td>2.259</td>\n",
       "      <td>4.805</td>\n",
       "      <td>1</td>\n",
       "    </tr>\n",
       "    <tr>\n",
       "      <th>4</th>\n",
       "      <td>16.14</td>\n",
       "      <td>14.99</td>\n",
       "      <td>0.9034</td>\n",
       "      <td>5.658</td>\n",
       "      <td>3.562</td>\n",
       "      <td>1.355</td>\n",
       "      <td>5.175</td>\n",
       "      <td>1</td>\n",
       "    </tr>\n",
       "  </tbody>\n",
       "</table>\n",
       "</div>"
      ],
      "text/plain": [
       "   feat1  feat2   feat3  feat4  feat5  feat6  feat7  class\n",
       "0  15.26  14.84  0.8710  5.763  3.312  2.221  5.220      1\n",
       "1  14.88  14.57  0.8811  5.554  3.333  1.018  4.956      1\n",
       "2  14.29  14.09  0.9050  5.291  3.337  2.699  4.825      1\n",
       "3  13.84  13.94  0.8955  5.324  3.379  2.259  4.805      1\n",
       "4  16.14  14.99  0.9034  5.658  3.562  1.355  5.175      1"
      ]
     },
     "execution_count": 9,
     "metadata": {},
     "output_type": "execute_result"
    }
   ],
   "source": [
    "df_weed.columns = columns\n",
    "df_weed.head(5)"
   ]
  },
  {
   "cell_type": "markdown",
   "id": "9e20772d",
   "metadata": {},
   "source": [
    "## (3)"
   ]
  },
  {
   "cell_type": "code",
   "execution_count": 28,
   "id": "7fd17156",
   "metadata": {},
   "outputs": [],
   "source": [
    "max_results = {}\n",
    "for col in columns:\n",
    "    key = col\n",
    "    value = df_weed[col].max()\n",
    "    max_results[key] = value\n",
    "    \n",
    "min_results = {}\n",
    "for col in columns:\n",
    "    key = col\n",
    "    value = df_weed[col].min()\n",
    "    min_results[key] = value\n"
   ]
  },
  {
   "cell_type": "code",
   "execution_count": 29,
   "id": "e41109ab",
   "metadata": {},
   "outputs": [
    {
     "data": {
      "text/plain": [
       "{'feat1': 21.18,\n",
       " 'feat2': 17.25,\n",
       " 'feat3': 0.9183,\n",
       " 'feat4': 6.675,\n",
       " 'feat5': 4.033,\n",
       " 'feat6': 8.456,\n",
       " 'feat7': 6.55,\n",
       " 'class': 3}"
      ]
     },
     "execution_count": 29,
     "metadata": {},
     "output_type": "execute_result"
    }
   ],
   "source": [
    "max_results"
   ]
  },
  {
   "cell_type": "code",
   "execution_count": 31,
   "id": "69522ee7",
   "metadata": {},
   "outputs": [
    {
     "data": {
      "text/plain": [
       "{'feat1': 10.59,\n",
       " 'feat2': 12.41,\n",
       " 'feat3': 0.8081,\n",
       " 'feat4': 4.899,\n",
       " 'feat5': 2.63,\n",
       " 'feat6': 0.7651,\n",
       " 'feat7': 4.519,\n",
       " 'class': 1}"
      ]
     },
     "execution_count": 31,
     "metadata": {},
     "output_type": "execute_result"
    }
   ],
   "source": [
    "min_results"
   ]
  },
  {
   "cell_type": "code",
   "execution_count": 32,
   "id": "006c4704",
   "metadata": {},
   "outputs": [
    {
     "data": {
      "text/html": [
       "<div>\n",
       "<style scoped>\n",
       "    .dataframe tbody tr th:only-of-type {\n",
       "        vertical-align: middle;\n",
       "    }\n",
       "\n",
       "    .dataframe tbody tr th {\n",
       "        vertical-align: top;\n",
       "    }\n",
       "\n",
       "    .dataframe thead th {\n",
       "        text-align: right;\n",
       "    }\n",
       "</style>\n",
       "<table border=\"1\" class=\"dataframe\">\n",
       "  <thead>\n",
       "    <tr style=\"text-align: right;\">\n",
       "      <th></th>\n",
       "      <th>feat1</th>\n",
       "      <th>feat2</th>\n",
       "      <th>feat3</th>\n",
       "      <th>feat4</th>\n",
       "      <th>feat5</th>\n",
       "      <th>feat6</th>\n",
       "      <th>feat7</th>\n",
       "      <th>class</th>\n",
       "    </tr>\n",
       "  </thead>\n",
       "  <tbody>\n",
       "    <tr>\n",
       "      <th>max</th>\n",
       "      <td>21.18</td>\n",
       "      <td>17.25</td>\n",
       "      <td>0.9183</td>\n",
       "      <td>6.675</td>\n",
       "      <td>4.033</td>\n",
       "      <td>8.4560</td>\n",
       "      <td>6.550</td>\n",
       "      <td>3</td>\n",
       "    </tr>\n",
       "    <tr>\n",
       "      <th>min</th>\n",
       "      <td>10.59</td>\n",
       "      <td>12.41</td>\n",
       "      <td>0.8081</td>\n",
       "      <td>4.899</td>\n",
       "      <td>2.630</td>\n",
       "      <td>0.7651</td>\n",
       "      <td>4.519</td>\n",
       "      <td>1</td>\n",
       "    </tr>\n",
       "  </tbody>\n",
       "</table>\n",
       "</div>"
      ],
      "text/plain": [
       "     feat1  feat2   feat3  feat4  feat5   feat6  feat7  class\n",
       "max  21.18  17.25  0.9183  6.675  4.033  8.4560  6.550      3\n",
       "min  10.59  12.41  0.8081  4.899  2.630  0.7651  4.519      1"
      ]
     },
     "execution_count": 32,
     "metadata": {},
     "output_type": "execute_result"
    }
   ],
   "source": [
    "pd.DataFrame(data = [max_results, min_results], index=[\"max\", \"min\"])"
   ]
  },
  {
   "cell_type": "markdown",
   "id": "14d2e1d9",
   "metadata": {},
   "source": [
    "## (4)"
   ]
  },
  {
   "cell_type": "markdown",
   "id": "d9aa6548",
   "metadata": {},
   "source": [
    "(a) The scaling is called feature normalisation, which is to change the range of values from its original bounds to [0,1]  \n",
    "$\\hat{x} = \\frac{x - x_{min} }{x_{max} - x_{min}}$\n"
   ]
  },
  {
   "cell_type": "markdown",
   "id": "641e243b",
   "metadata": {},
   "source": [
    "(b) The max value = 1, min value = 0 after scaling"
   ]
  },
  {
   "cell_type": "markdown",
   "id": "b18e04ec",
   "metadata": {},
   "source": [
    "## (5)"
   ]
  },
  {
   "cell_type": "code",
   "execution_count": 64,
   "id": "103c039d",
   "metadata": {},
   "outputs": [
    {
     "name": "stdout",
     "output_type": "stream",
     "text": [
      "Scores: [95.23809523809523, 92.85714285714286, 97.61904761904762, 92.85714285714286, 90.47619047619048]\n",
      "Mean Accuracy: 93.810%\n"
     ]
    }
   ],
   "source": [
    "%run main.py\n",
    "# Scores: [50.0, 26.190476190476193, 35.714285714285715, 30.952380952380953, 33.33333333333333]\n",
    "# Mean Accuracy: 35.238%"
   ]
  },
  {
   "cell_type": "markdown",
   "id": "246c5806",
   "metadata": {},
   "source": [
    "## (6)"
   ]
  },
  {
   "cell_type": "code",
   "execution_count": 35,
   "id": "8917ac15",
   "metadata": {},
   "outputs": [
    {
     "name": "stdout",
     "output_type": "stream",
     "text": [
      "Scores: [95.23809523809523, 92.85714285714286, 97.61904761904762, 92.85714285714286, 90.47619047619048]\n",
      "Mean Accuracy: 93.810%\n"
     ]
    }
   ],
   "source": [
    "%run main.py\n",
    "# Scores: [95.23809523809523, 92.85714285714286, 97.61904761904762, 92.85714285714286, 90.47619047619048]\n",
    "# Mean Accuracy: 93.810%"
   ]
  },
  {
   "cell_type": "markdown",
   "id": "240c3e45",
   "metadata": {},
   "source": [
    "The normalisation helps the gradient descent algorithm to converge faster, so for the same no of epoch(the # of iterations for the gradient descent), normalised one is more accurate"
   ]
  },
  {
   "cell_type": "markdown",
   "id": "05eaf35d",
   "metadata": {},
   "source": [
    "The scores are higher on average with normalisation done than without normalisation, in that the mean accuracy in (6) = 93.810% > the mean accuracy in (5) = 35.238%"
   ]
  },
  {
   "cell_type": "markdown",
   "id": "84fd1eb6",
   "metadata": {},
   "source": [
    "## (7)"
   ]
  },
  {
   "cell_type": "markdown",
   "id": "8e99642e",
   "metadata": {},
   "source": [
    "(c)  \n",
    "The function first divides the dataset into n equal portions of size fold_size.  \n",
    "It randomly selects data from the dataset to form new portions of size fold_size.  \n",
    "Then it repeats the above step for n times, which means to form a new dataset consists of n randomly shuffled portions.  \n",
    "\n"
   ]
  },
  {
   "cell_type": "markdown",
   "id": "6fb4d1be",
   "metadata": {},
   "source": [
    "(d) It is important so that the training sets selected are random, which minimises bias because each row of data has equal chance of being selected.  \n",
    "This in turn helps in tuning the hyperparameters and avoid overfitting during training. "
   ]
  },
  {
   "cell_type": "markdown",
   "id": "9f84d534",
   "metadata": {},
   "source": [
    "## (8)"
   ]
  },
  {
   "cell_type": "markdown",
   "id": "32cdcd96",
   "metadata": {},
   "source": [
    "The function computes the percentage of correct predictions made by the model out of all predictions done by the model."
   ]
  },
  {
   "cell_type": "markdown",
   "id": "e9af2080",
   "metadata": {},
   "source": [
    "## (9)"
   ]
  },
  {
   "cell_type": "markdown",
   "id": "67723243",
   "metadata": {},
   "source": [
    "It is the `transfer()` function, the scientific name is sigmoid function"
   ]
  },
  {
   "cell_type": "markdown",
   "id": "0052a017",
   "metadata": {},
   "source": [
    "## (10)"
   ]
  },
  {
   "cell_type": "markdown",
   "id": "4232f83f",
   "metadata": {},
   "source": [
    "This is because by differentiating the sigmoid function $${y} = \\frac{1}{1+e^{-x}}$$   \n",
    "we get \n",
    "$${y'} = \\frac{1}{1+e^{-x}} - \\frac{1}{{1+e^{-x}}^2} = \\frac{y}{1-y}$$\n",
    "\n",
    "as the result."
   ]
  },
  {
   "cell_type": "markdown",
   "id": "b4e45d68",
   "metadata": {},
   "source": [
    "## (11)"
   ]
  },
  {
   "cell_type": "markdown",
   "id": "448bb940",
   "metadata": {},
   "source": [
    "Error = del E / del o (o at (i + 1)th layer, jth output)"
   ]
  },
  {
   "cell_type": "markdown",
   "id": "9a18fa24",
   "metadata": {},
   "source": [
    "## (12)"
   ]
  },
  {
   "cell_type": "markdown",
   "id": "257987ae",
   "metadata": {},
   "source": [
    "Neuron delta = del E / del s (s at ith layer, jth output)"
   ]
  },
  {
   "cell_type": "markdown",
   "id": "81ed77ba",
   "metadata": {},
   "source": [
    "## (13)"
   ]
  },
  {
   "cell_type": "code",
   "execution_count": 44,
   "id": "717faf85",
   "metadata": {},
   "outputs": [
    {
     "name": "stdout",
     "output_type": "stream",
     "text": [
      "Scores: [95.23809523809523, 92.85714285714286, 97.61904761904762, 92.85714285714286, 90.47619047619048]\n",
      "Mean Accuracy: 93.810%\n"
     ]
    }
   ],
   "source": [
    "# n_epoch = 600\n",
    "%run main.py\n",
    "# Scores: [95.23809523809523, 92.85714285714286, 97.61904761904762, 92.85714285714286, 90.47619047619048]\n",
    "# Mean Accuracy: 93.810%"
   ]
  },
  {
   "cell_type": "code",
   "execution_count": 75,
   "id": "324114bf",
   "metadata": {},
   "outputs": [],
   "source": [
    "# Modified function\n",
    "def train_network(network, train, l_rate, n_epoch, n_outputs):\n",
    "\tfor epoch in range(n_epoch):\n",
    "\t\t\n",
    "\t\tfor row in train:\n",
    "\t\t\toutputs = forward_propagate(network, row)\n",
    "\t\t\texpected = [0 for i in range(n_outputs)]\n",
    "\t\t\texpected[row[-1]] = 1\n",
    "\t\t\tbackward_propagate_error(network, expected)\n",
    "\t\t\tupdate_weights(network, row, l_rate)\n",
    "\n",
    "\n",
    "\t\t# calculate only after backward propagation and updating of weights\n",
    "\t\tif (epoch +1) % 100 == 0:\n",
    "\t\t\terror = 0\n",
    "\t\t\texpected = [0 for i in range(n_outputs)]\n",
    "\t\t\texpected[row[-1]] = 1\n",
    "\t\t\tfinal_layer = network[-1]\n",
    "\t\t\tfor i in range(len(final_layer)):\n",
    "\t\t\t\tneuron = final_layer[i]\n",
    "\t\t\t\terror += (expected[i]-neuron['output']) ** 2\n",
    "\t\t\t\tprint(f\"epoch number = {epoch + 1}, error = {error}\")"
   ]
  },
  {
   "cell_type": "code",
   "execution_count": 74,
   "id": "3336fa16",
   "metadata": {},
   "outputs": [
    {
     "name": "stdout",
     "output_type": "stream",
     "text": [
      "\n",
      "Error results in the current fold:\n",
      "epoch number = 100, error = 0.0002564318620268085\n",
      "epoch number = 100, error = 0.000695389784511198\n",
      "epoch number = 100, error = 0.0012627261281900263\n",
      "epoch number = 200, error = 3.665937148760507e-05\n",
      "epoch number = 200, error = 0.00015175212708129658\n",
      "epoch number = 200, error = 0.0003800484250143835\n",
      "epoch number = 300, error = 1.383230730726335e-05\n",
      "epoch number = 300, error = 7.419255717531576e-05\n",
      "epoch number = 300, error = 0.00023028470918421982\n",
      "epoch number = 400, error = 6.514747055598107e-06\n",
      "epoch number = 400, error = 5.5192019632612426e-05\n",
      "epoch number = 400, error = 0.0001501509722016619\n",
      "epoch number = 500, error = 1.1165614933533252e-06\n",
      "epoch number = 500, error = 7.552781254018079e-05\n",
      "epoch number = 500, error = 9.604572270477361e-05\n",
      "epoch number = 600, error = 1.6426205054635834e-07\n",
      "epoch number = 600, error = 8.193162650267881e-05\n",
      "epoch number = 600, error = 8.501701379991782e-05\n",
      "\n",
      "Error results in the current fold:\n",
      "epoch number = 100, error = 0.0005218793732623631\n",
      "epoch number = 100, error = 0.0005221703523234641\n",
      "epoch number = 100, error = 0.0009162861899862285\n",
      "epoch number = 200, error = 0.000600710946398944\n",
      "epoch number = 200, error = 0.000600859845318581\n",
      "epoch number = 200, error = 0.0010337610581176344\n",
      "epoch number = 300, error = 0.00033830799025298675\n",
      "epoch number = 300, error = 0.0003384126899781573\n",
      "epoch number = 300, error = 0.0007043365257023903\n",
      "epoch number = 400, error = 0.00044112669523417326\n",
      "epoch number = 400, error = 0.00044128490296906195\n",
      "epoch number = 400, error = 0.001112459982754979\n",
      "epoch number = 500, error = 0.00014659074881637432\n",
      "epoch number = 500, error = 0.00014671037662604113\n",
      "epoch number = 500, error = 0.00045317231290741174\n",
      "epoch number = 600, error = 3.3747448753750855e-05\n",
      "epoch number = 600, error = 3.380427568581201e-05\n",
      "epoch number = 600, error = 0.00012365149389190384\n",
      "\n",
      "Error results in the current fold:\n",
      "epoch number = 100, error = 0.000352540018929537\n",
      "epoch number = 100, error = 0.0003838111539059187\n",
      "epoch number = 100, error = 0.0005049839699085315\n",
      "epoch number = 200, error = 6.70555751010499e-05\n",
      "epoch number = 200, error = 8.503269163366375e-05\n",
      "epoch number = 200, error = 0.00012944793575453\n",
      "epoch number = 300, error = 2.3477135426520274e-05\n",
      "epoch number = 300, error = 3.6409460163390895e-05\n",
      "epoch number = 300, error = 6.7147723725696e-05\n",
      "epoch number = 400, error = 1.2626299830670072e-05\n",
      "epoch number = 400, error = 2.5192604491935808e-05\n",
      "epoch number = 400, error = 5.338488818785927e-05\n",
      "epoch number = 500, error = 8.348183060105264e-06\n",
      "epoch number = 500, error = 2.141646989460519e-05\n",
      "epoch number = 500, error = 5.044158121679609e-05\n",
      "epoch number = 600, error = 7.0427803365866774e-06\n",
      "epoch number = 600, error = 1.513981824170321e-05\n",
      "epoch number = 600, error = 5.1746526469528063e-05\n",
      "\n",
      "Error results in the current fold:\n",
      "epoch number = 100, error = 8.303002518191238e-05\n",
      "epoch number = 100, error = 8.391252710358392e-05\n",
      "epoch number = 100, error = 9.363486346560886e-05\n",
      "epoch number = 200, error = 2.0730300519933025e-05\n",
      "epoch number = 200, error = 2.0854140095115173e-05\n",
      "epoch number = 200, error = 2.1581965773522937e-05\n",
      "epoch number = 300, error = 1.613602957491083e-05\n",
      "epoch number = 300, error = 1.613949546046057e-05\n",
      "epoch number = 300, error = 1.641501277026561e-05\n",
      "epoch number = 400, error = 1.0589102569761717e-05\n",
      "epoch number = 400, error = 1.0589372903311008e-05\n",
      "epoch number = 400, error = 1.071976450347903e-05\n",
      "epoch number = 500, error = 7.224243496091022e-06\n",
      "epoch number = 500, error = 7.224288922418311e-06\n",
      "epoch number = 500, error = 7.313394424642397e-06\n",
      "epoch number = 600, error = 5.449136868499386e-06\n",
      "epoch number = 600, error = 5.44914451843114e-06\n",
      "epoch number = 600, error = 5.535169085790895e-06\n",
      "\n",
      "Error results in the current fold:\n",
      "epoch number = 100, error = 0.008742586673313657\n",
      "epoch number = 100, error = 0.041441673248383604\n",
      "epoch number = 100, error = 0.0414881776721824\n",
      "epoch number = 200, error = 0.0006599424940302964\n",
      "epoch number = 200, error = 0.002529569952145123\n",
      "epoch number = 200, error = 0.0025341790453007034\n",
      "epoch number = 300, error = 6.998087853088171e-05\n",
      "epoch number = 300, error = 0.00019096116714593283\n",
      "epoch number = 300, error = 0.00019211104099481794\n",
      "epoch number = 400, error = 1.468726675035071e-05\n",
      "epoch number = 400, error = 3.1680999691467135e-05\n",
      "epoch number = 400, error = 3.2143743628429234e-05\n",
      "epoch number = 500, error = 4.6505740914275315e-06\n",
      "epoch number = 500, error = 9.2559629651969e-06\n",
      "epoch number = 500, error = 9.475766103288609e-06\n",
      "epoch number = 600, error = 1.629370036959352e-06\n",
      "epoch number = 600, error = 3.5448957257696787e-06\n",
      "epoch number = 600, error = 3.633070037612747e-06\n",
      "Scores: [95.23809523809523, 92.85714285714286, 97.61904761904762, 92.85714285714286, 90.47619047619048]\n",
      "Mean Accuracy: 93.810%\n"
     ]
    },
    {
     "data": {
      "text/plain": [
       "'\\nResults:\\n\\nError results in the current fold:\\nepoch number = 100, error = 12.667084945830458\\nepoch number = 200, error = 9.638140141546678\\nepoch number = 300, error = 8.533577758005189\\nepoch number = 400, error = 7.508485155814654\\nepoch number = 500, error = 6.593029449528946\\nepoch number = 600, error = 5.9642758631715855\\n\\nError results in the current fold:\\nepoch number = 100, error = 12.245995736726377\\nepoch number = 200, error = 10.087987442279445\\nepoch number = 300, error = 8.316624173198823\\nepoch number = 400, error = 7.459110467539824\\nepoch number = 500, error = 6.210548784692908\\nepoch number = 600, error = 5.402362468736519\\n\\nError results in the current fold:\\nepoch number = 100, error = 12.468381877613751\\nepoch number = 200, error = 9.336418948169177\\nepoch number = 300, error = 8.123649568182783\\nepoch number = 400, error = 7.277832811855228\\nepoch number = 500, error = 6.5190866062048585\\nepoch number = 600, error = 5.7058010587621295\\n\\nError results in the current fold:\\nepoch number = 100, error = 13.530974639200831\\nepoch number = 200, error = 10.459314277735063\\nepoch number = 300, error = 8.9471026189162\\nepoch number = 400, error = 7.785132604691031\\nepoch number = 500, error = 6.581279001640338\\nepoch number = 600, error = 5.756635617665958\\n\\nError results in the current fold:\\nepoch number = 100, error = 12.386528468330273\\nepoch number = 200, error = 8.364295413365566\\nepoch number = 300, error = 6.635929744941923\\nepoch number = 400, error = 5.385911681722092\\nepoch number = 500, error = 4.25532976793774\\nepoch number = 600, error = 3.2052007842236097\\nScores: [95.23809523809523, 92.85714285714286, 97.61904761904762, 92.85714285714286, 90.47619047619048]\\nMean Accuracy: 93.810%\\n\\n\\n'"
      ]
     },
     "execution_count": 74,
     "metadata": {},
     "output_type": "execute_result"
    }
   ],
   "source": [
    "%run main13.py\n",
    "\n",
    "'''\n",
    "Results:\n",
    "\n",
    "Error results in the current fold:\n",
    "epoch number = 100, error = 0.0002564318620268085\n",
    "epoch number = 100, error = 0.000695389784511198\n",
    "epoch number = 100, error = 0.0012627261281900263\n",
    "epoch number = 200, error = 3.665937148760507e-05\n",
    "epoch number = 200, error = 0.00015175212708129658\n",
    "epoch number = 200, error = 0.0003800484250143835\n",
    "epoch number = 300, error = 1.383230730726335e-05\n",
    "epoch number = 300, error = 7.419255717531576e-05\n",
    "epoch number = 300, error = 0.00023028470918421982\n",
    "epoch number = 400, error = 6.514747055598107e-06\n",
    "epoch number = 400, error = 5.5192019632612426e-05\n",
    "epoch number = 400, error = 0.0001501509722016619\n",
    "epoch number = 500, error = 1.1165614933533252e-06\n",
    "epoch number = 500, error = 7.552781254018079e-05\n",
    "epoch number = 500, error = 9.604572270477361e-05\n",
    "epoch number = 600, error = 1.6426205054635834e-07\n",
    "epoch number = 600, error = 8.193162650267881e-05\n",
    "epoch number = 600, error = 8.501701379991782e-05\n",
    "\n",
    "Error results in the current fold:\n",
    "epoch number = 100, error = 0.0005218793732623631\n",
    "epoch number = 100, error = 0.0005221703523234641\n",
    "epoch number = 100, error = 0.0009162861899862285\n",
    "epoch number = 200, error = 0.000600710946398944\n",
    "epoch number = 200, error = 0.000600859845318581\n",
    "epoch number = 200, error = 0.0010337610581176344\n",
    "epoch number = 300, error = 0.00033830799025298675\n",
    "epoch number = 300, error = 0.0003384126899781573\n",
    "epoch number = 300, error = 0.0007043365257023903\n",
    "epoch number = 400, error = 0.00044112669523417326\n",
    "epoch number = 400, error = 0.00044128490296906195\n",
    "epoch number = 400, error = 0.001112459982754979\n",
    "epoch number = 500, error = 0.00014659074881637432\n",
    "epoch number = 500, error = 0.00014671037662604113\n",
    "epoch number = 500, error = 0.00045317231290741174\n",
    "epoch number = 600, error = 3.3747448753750855e-05\n",
    "epoch number = 600, error = 3.380427568581201e-05\n",
    "epoch number = 600, error = 0.00012365149389190384\n",
    "\n",
    "Error results in the current fold:\n",
    "epoch number = 100, error = 0.000352540018929537\n",
    "epoch number = 100, error = 0.0003838111539059187\n",
    "epoch number = 100, error = 0.0005049839699085315\n",
    "epoch number = 200, error = 6.70555751010499e-05\n",
    "epoch number = 200, error = 8.503269163366375e-05\n",
    "epoch number = 200, error = 0.00012944793575453\n",
    "epoch number = 300, error = 2.3477135426520274e-05\n",
    "epoch number = 300, error = 3.6409460163390895e-05\n",
    "epoch number = 300, error = 6.7147723725696e-05\n",
    "epoch number = 400, error = 1.2626299830670072e-05\n",
    "epoch number = 400, error = 2.5192604491935808e-05\n",
    "epoch number = 400, error = 5.338488818785927e-05\n",
    "epoch number = 500, error = 8.348183060105264e-06\n",
    "epoch number = 500, error = 2.141646989460519e-05\n",
    "epoch number = 500, error = 5.044158121679609e-05\n",
    "epoch number = 600, error = 7.0427803365866774e-06\n",
    "epoch number = 600, error = 1.513981824170321e-05\n",
    "epoch number = 600, error = 5.1746526469528063e-05\n",
    "\n",
    "Error results in the current fold:\n",
    "epoch number = 100, error = 8.303002518191238e-05\n",
    "epoch number = 100, error = 8.391252710358392e-05\n",
    "epoch number = 100, error = 9.363486346560886e-05\n",
    "epoch number = 200, error = 2.0730300519933025e-05\n",
    "epoch number = 200, error = 2.0854140095115173e-05\n",
    "epoch number = 200, error = 2.1581965773522937e-05\n",
    "epoch number = 300, error = 1.613602957491083e-05\n",
    "epoch number = 300, error = 1.613949546046057e-05\n",
    "epoch number = 300, error = 1.641501277026561e-05\n",
    "epoch number = 400, error = 1.0589102569761717e-05\n",
    "epoch number = 400, error = 1.0589372903311008e-05\n",
    "epoch number = 400, error = 1.071976450347903e-05\n",
    "epoch number = 500, error = 7.224243496091022e-06\n",
    "epoch number = 500, error = 7.224288922418311e-06\n",
    "epoch number = 500, error = 7.313394424642397e-06\n",
    "epoch number = 600, error = 5.449136868499386e-06\n",
    "epoch number = 600, error = 5.44914451843114e-06\n",
    "epoch number = 600, error = 5.535169085790895e-06\n",
    "\n",
    "Error results in the current fold:\n",
    "epoch number = 100, error = 0.008742586673313657\n",
    "epoch number = 100, error = 0.041441673248383604\n",
    "epoch number = 100, error = 0.0414881776721824\n",
    "epoch number = 200, error = 0.0006599424940302964\n",
    "epoch number = 200, error = 0.002529569952145123\n",
    "epoch number = 200, error = 0.0025341790453007034\n",
    "epoch number = 300, error = 6.998087853088171e-05\n",
    "epoch number = 300, error = 0.00019096116714593283\n",
    "epoch number = 300, error = 0.00019211104099481794\n",
    "epoch number = 400, error = 1.468726675035071e-05\n",
    "epoch number = 400, error = 3.1680999691467135e-05\n",
    "epoch number = 400, error = 3.2143743628429234e-05\n",
    "epoch number = 500, error = 4.6505740914275315e-06\n",
    "epoch number = 500, error = 9.2559629651969e-06\n",
    "epoch number = 500, error = 9.475766103288609e-06\n",
    "epoch number = 600, error = 1.629370036959352e-06\n",
    "epoch number = 600, error = 3.5448957257696787e-06\n",
    "epoch number = 600, error = 3.633070037612747e-06\n",
    "Scores: [95.23809523809523, 92.85714285714286, 97.61904761904762, 92.85714285714286, 90.47619047619048]\n",
    "Mean Accuracy: 93.810%\n",
    "\n",
    "\n",
    "'''"
   ]
  },
  {
   "cell_type": "markdown",
   "id": "443b735f",
   "metadata": {},
   "source": [
    "## (14)"
   ]
  },
  {
   "cell_type": "code",
   "execution_count": 76,
   "id": "3e3eb779",
   "metadata": {},
   "outputs": [
    {
     "name": "stdout",
     "output_type": "stream",
     "text": [
      "Scores: [92.85714285714286, 85.71428571428571, 97.61904761904762, 92.85714285714286, 90.47619047619048]\n",
      "Mean Accuracy: 91.905%\n"
     ]
    }
   ],
   "source": [
    "%run main14.py"
   ]
  },
  {
   "cell_type": "code",
   "execution_count": 61,
   "id": "50cc474b",
   "metadata": {},
   "outputs": [],
   "source": [
    "# Modified part\n",
    "def initialize_network(n_inputs, n_hidden, n_outputs):\n",
    "\tnetwork = list()\n",
    "\thidden_layer = [{'weights':[random() for i in range(n_inputs + 1)]} for i in range(n_hidden)]\n",
    "\tnetwork.append(hidden_layer)\n",
    "\t# adding a hidden layer in Q14\n",
    "\tadditional_hidden_layer = [{'weights':[random() for i in range(n_hidden + 1)]} for i in range(4)]\n",
    "\tnetwork.append(additional_hidden_layer)\n",
    "\n",
    "\t# end of adding a hidden layer\n",
    "\toutput_layer = [{'weights':[random() for i in range(4 + 1)]} for i in range(n_outputs)]\n",
    "\tnetwork.append(output_layer)\n",
    "\treturn network"
   ]
  },
  {
   "cell_type": "code",
   "execution_count": null,
   "id": "b09b8762",
   "metadata": {},
   "outputs": [],
   "source": []
  },
  {
   "cell_type": "code",
   "execution_count": null,
   "id": "57fc6e04",
   "metadata": {},
   "outputs": [],
   "source": []
  }
 ],
 "metadata": {
  "kernelspec": {
   "display_name": "Python 3 (ipykernel)",
   "language": "python",
   "name": "python3"
  },
  "language_info": {
   "codemirror_mode": {
    "name": "ipython",
    "version": 3
   },
   "file_extension": ".py",
   "mimetype": "text/x-python",
   "name": "python",
   "nbconvert_exporter": "python",
   "pygments_lexer": "ipython3",
   "version": "3.11.5"
  },
  "vscode": {
   "interpreter": {
    "hash": "aee8b7b246df8f9039afb4144a1f6fd8d2ca17a180786b69acc140d282b71a49"
   }
  }
 },
 "nbformat": 4,
 "nbformat_minor": 5
}
